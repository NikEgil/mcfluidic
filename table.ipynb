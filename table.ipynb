{
 "cells": [
  {
   "cell_type": "code",
   "execution_count": 1,
   "metadata": {},
   "outputs": [
    {
     "name": "stderr",
     "output_type": "stream",
     "text": [
      "C:\\Users\\Nik\\AppData\\Local\\Temp\\ipykernel_9344\\1427923194.py:2: DeprecationWarning: \n",
      "Pyarrow will become a required dependency of pandas in the next major release of pandas (pandas 3.0),\n",
      "(to allow more performant data types, such as the Arrow string type, and better interoperability with other libraries)\n",
      "but was not found to be installed on your system.\n",
      "If this would cause problems for you,\n",
      "please provide us feedback at https://github.com/pandas-dev/pandas/issues/54466\n",
      "        \n",
      "  import pandas as pd\n"
     ]
    }
   ],
   "source": [
    "import os\n",
    "import pandas as pd\n",
    "import numpy as np\n",
    "from numpy.random import default_rng"
   ]
  },
  {
   "cell_type": "code",
   "execution_count": 30,
   "metadata": {},
   "outputs": [],
   "source": [
    "#скорость 1\n",
    "v1_s=1\n",
    "v1_e=5\n",
    "v1_d=1\n",
    "#скорость 2\n",
    "v2_s=1\n",
    "v2_e=5\n",
    "v2_d=1\n",
    "#скорость 3\n",
    "v3_s=1\n",
    "v3_e=5\n",
    "v3_d=1\n",
    "#cost скорость потока реагентов\n",
    "vs=6\n",
    "#const скорость масла\n",
    "v4m=3"
   ]
  },
  {
   "cell_type": "code",
   "execution_count": 31,
   "metadata": {},
   "outputs": [],
   "source": [
    "time_point=45\n",
    "time_proliv=15\n",
    "zero_str=(0,0,0,0,None,None,1)\n",
    "proliv=(0,0,0,vs+v4m,None,None,time_proliv)\n",
    "start_str=(0,0,0,vs+v4m,None,None,30)\n",
    "end_str=(0,0,0,vs+v4m,None,None,180)\n"
   ]
  },
  {
   "cell_type": "code",
   "execution_count": 32,
   "metadata": {},
   "outputs": [],
   "source": [
    "table=[]\n",
    "for v1 in np.arange(v1_s,v1_e+0.1,v1_d):\n",
    "    for v2 in np.arange(v2_s,v2_e+0.1,v2_d):\n",
    "        for v3 in np.arange(v3_s,v3_e+0.1,v3_d):\n",
    "            if v1+v2+v3==vs:\n",
    "                table.append((v1,v2,v3,v4m,None,None,time_point,1,v1+v2+v3+v4m))\n",
    "            else:continue"
   ]
  },
  {
   "cell_type": "code",
   "execution_count": 34,
   "metadata": {},
   "outputs": [
    {
     "name": "stdout",
     "output_type": "stream",
     "text": [
      "[6 3 1 9 2 5 4 7 8 0]\n"
     ]
    }
   ],
   "source": [
    "schedule=[]\n",
    "schedule.append(start_str)\n",
    "schedule.append(zero_str)\n",
    "\n",
    "\n",
    "\n",
    "rng = default_rng()\n",
    "numbers = rng.choice(len(table), size=len(table), replace=False)\n",
    "print(numbers)\n",
    "\n",
    "for i in numbers:\n",
    "    schedule.append(table[i][0:7])\n",
    "    schedule.append(zero_str)\n",
    "    schedule.append(proliv)\n",
    "    schedule.append(zero_str)\n",
    "schedule.append(end_str)\n",
    "\n",
    "data=pd.DataFrame(schedule)\n",
    "data=data.assign(q=np.ones(len(schedule)))\n",
    "data=data.assign(time=np.arange(2,len(schedule)+2))\n",
    "data.to_excel(\"output.xlsx\",   index= False, header= False )"
   ]
  }
 ],
 "metadata": {
  "kernelspec": {
   "display_name": "Python 3",
   "language": "python",
   "name": "python3"
  },
  "language_info": {
   "codemirror_mode": {
    "name": "ipython",
    "version": 3
   },
   "file_extension": ".py",
   "mimetype": "text/x-python",
   "name": "python",
   "nbconvert_exporter": "python",
   "pygments_lexer": "ipython3",
   "version": "3.11.0"
  }
 },
 "nbformat": 4,
 "nbformat_minor": 2
}
