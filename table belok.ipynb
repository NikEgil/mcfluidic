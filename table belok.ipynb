{
 "cells": [
  {
   "cell_type": "code",
   "execution_count": 1,
   "metadata": {},
   "outputs": [],
   "source": [
    "import os\n",
    "import numpy as np\n",
    "from numpy.random import default_rng\n",
    "from pyfitit.ihs import ihs\n",
    "\n",
    "import random\n",
    "import pandas as pd\n",
    "import matplotlib.pyplot as plt"
   ]
  },
  {
   "cell_type": "code",
   "execution_count": 6,
   "metadata": {},
   "outputs": [],
   "source": [
    "# скорость белок задаютсся в мкл/сек и а на выходе мкл/мин\n",
    "v1_s = 0.15\n",
    "v1_e = 20\n",
    "v1_d = 0.005\n",
    "# скорость осадитель\n",
    "v2_s = 0.15\n",
    "v2_e = 20\n",
    "v2_d = 0.005\n",
    "# скорость разбавитель\n",
    "v3_s = 0.15\n",
    "v3_e = 20\n",
    "v3_d = 0.005\n",
    "# объем выдавливаемой смеси, мкл\n",
    "volume = 200\n",
    "# концентрации реагентов в шприцах\n",
    "c1_def = 120\n",
    "c2_def = 60\n",
    "c3_def = 0\n",
    "# области вариации концентраций в капле\n",
    "c1_s = 0\n",
    "c1_e = 60\n",
    "\n",
    "c2_s = 0\n",
    "c2_e = 30"
   ]
  },
  {
   "cell_type": "code",
   "execution_count": 7,
   "metadata": {},
   "outputs": [],
   "source": [
    "def c_to_v(c_b, c_o):\n",
    "    capa = (c1_def / c2_def) * c_o / c_b\n",
    "    #    print(capa)\n",
    "    # рассчет всех возможных комбинаций скоростей\n",
    "    x = []\n",
    "    for v3 in np.arange(v3_s, v3_e, v3_d):\n",
    "        v_b = c_b * v3\n",
    "        v_b /= c1_def - c_b * (1 + capa)\n",
    "        v_o = capa * v_b\n",
    "        # if -0.01<v_b-round(v_b,2)<0.01 and -0.001<v_o-round(v_o,2)<0.01:\n",
    "        x.append((v_b, v_o, v3))\n",
    "        # break\n",
    "    # выбор тех что наиболее близки к округленному значению\n",
    "    a = []\n",
    "    for i in range(len(x)):\n",
    "        if (\n",
    "            -0.01 < x[i][0] - round(x[i][0], 3) < 0.01\n",
    "            and -0.01 < x[i][1] - round(x[i][1], 3) < 0.01\n",
    "        ):\n",
    "            if x[i][0] > v1_s and x[i][2] > v2_s:\n",
    "                a.append(x[i])\n",
    "    b = []\n",
    "    # выбор тех кто лежат в пределе 10-20 секунд выкапывания\n",
    "    for i in range(len(a)):\n",
    "        sum = a[i][0] + a[i][1] + a[i][2]\n",
    "        time = volume / (sum)\n",
    "        if time > 2:\n",
    "            b.append((a[i][0] * 60, a[i][1] * 60, a[i][2] * 60, time))\n",
    "            break\n",
    "    return b\n",
    "\n",
    "\n",
    "# b[0],b[1],b[2],b[3]"
   ]
  },
  {
   "cell_type": "code",
   "execution_count": 8,
   "metadata": {},
   "outputs": [
    {
     "name": "stdout",
     "output_type": "stream",
     "text": [
      "[(9.000000000000005, 21.60000000000001, 23.400000000000013, 222.22222222222211)]\n"
     ]
    }
   ],
   "source": [
    "print(c_to_v(20, 24))"
   ]
  },
  {
   "cell_type": "markdown",
   "metadata": {},
   "source": [
    "для фикса"
   ]
  },
  {
   "cell_type": "code",
   "execution_count": 9,
   "metadata": {},
   "outputs": [
    {
     "data": {
      "image/png": "[encoded data removed]",
      "text/plain": [
       "<Figure size 640x480 with 1 Axes>"
      ]
     },
     "metadata": {},
     "output_type": "display_data"
    }
   ],
   "source": [
    "mas = [\n",
    "    [5, 15],\n",
    "    [10, 28],\n",
    "    [15, 8],\n",
    "    [20, 24],\n",
    "    [25, 6],\n",
    "    [30, 0],\n",
    "    [35, 30],\n",
    "    [40, 17],\n",
    "    [45, 10],\n",
    "    [50, 26],\n",
    "    [55, 3],\n",
    "    [60, 15],\n",
    "]\n",
    "for i in range(len(mas)):\n",
    "    plt.scatter(mas[i][0], mas[i][1])"
   ]
  },
  {
   "cell_type": "code",
   "execution_count": 10,
   "metadata": {},
   "outputs": [
    {
     "name": "stdout",
     "output_type": "stream",
     "text": [
      "[(13.02, 22.32, 9.3, 268.81720430107526)]\n"
     ]
    }
   ],
   "source": [
    "res = c_to_v(mas[6][0], mas[6][1])\n",
    "print(res)"
   ]
  },
  {
   "cell_type": "markdown",
   "metadata": {},
   "source": [
    "для рандома ihs"
   ]
  },
  {
   "cell_type": "code",
   "execution_count": 13,
   "metadata": {},
   "outputs": [
    {
     "name": "stdout",
     "output_type": "stream",
     "text": [
      "22.25\n"
     ]
    },
    {
     "data": {
      "image/png": "[encoded data removed]",
      "text/plain": [
       "<Figure size 640x480 with 1 Axes>"
      ]
     },
     "metadata": {},
     "output_type": "display_data"
    }
   ],
   "source": [
    "n = 20\n",
    "bounds = [(5, 59), (-1, 30)]\n",
    "res = ihs(2, n, seed=random.seed())\n",
    "samples = []\n",
    "# x4 = (0.3 - 0.6) flow\n",
    "# x1 = (0 - 0.9)(flow - x3 - x4)\n",
    "# x2 = flow - x3 - x4 - x1\n",
    "# x3 = (0.1 - 0.9)(flow - x4)\n",
    "for row in res:\n",
    "    r = []\n",
    "    for i, interval in zip(range(len(row)), bounds):\n",
    "        r.append(interval[0] + (row[i] * 1.0 / n) * (interval[1] - interval[0]))\n",
    "    samples.append(r)\n",
    "real_values = []\n",
    "\n",
    "for s in samples:\n",
    "    x1 = round(s[0], 6)\n",
    "    x3 = round(s[1], 6)\n",
    "    real_values.append([x1, x3])\n",
    "df = pd.DataFrame(real_values)\n",
    "# df = df.round(1)\n",
    "# plt.scatter(df[0].values, df[2].values)\n",
    "mas = df.values.tolist()\n",
    "print(df[1][0])\n",
    "for i in range(len(df)):\n",
    "    plt.scatter(df[0][i], df[1][i])"
   ]
  },
  {
   "cell_type": "code",
   "execution_count": 14,
   "metadata": {},
   "outputs": [
    {
     "name": "stdout",
     "output_type": "stream",
     "text": [
      "[(16.419780219780222, 15.159340659340659, 9.3, 293.5483870967742)]\n",
      "[(9.018867924528307, 6.264150943396231, 30.00000000000002, 264.99999999999983)]\n",
      "[(9.006000000000007, 2.3940000000000015, 57.00000000000004, 175.43859649122794)]\n",
      "[(76.99852941176458, 77.8191176470587, 9.3, 73.1182795698926)]\n",
      "[(9.065158371040729, 4.447058823529415, 37.800000000000026, 233.86243386243373)]\n",
      "[(9.042492917847033, 7.750708215297456, 24.000000000000014, 294.16666666666646)]\n",
      "[(9.058688147295747, 0.3113924050632913, 24.600000000000016, 353.25203252032503)]\n",
      "[(9.020788530465955, 22.465232974910403, 72.60000000000005, 115.28925619834703)]\n",
      "[(9.423062381852553, 2.373345935727788, 9.3, 568.8172043010752)]\n",
      "[(9.000858369098715, 1.5351931330472106, 14.700000000000005, 475.51020408163254)]\n",
      "[(9.0972972972973, 4.791891891891893, 15.300000000000008, 411.111111111111)]\n",
      "[(18.986159169550167, 10.329757785467123, 9.3, 310.75268817204307)]\n",
      "[(17.08916967509024, 13.899638989169665, 9.3, 297.84946236559153)]\n",
      "[(9.05160349854228, 26.46384839650147, 47.400000000000034, 144.72573839662437)]\n",
      "[(9.3, 5.927472527472527, 9.3, 489.247311827957)]\n",
      "[(9.142514970059885, 9.274251497005993, 13.200000000000003, 379.54545454545433)]\n",
      "[(14.288505747126441, 19.17011494252874, 9.3, 280.6451612903225)]\n",
      "[(9.177494199535968, 14.90951276102089, 13.500000000000004, 319.2592592592591)]\n",
      "[(9.067913385826778, 24.85098425196852, 24.900000000000016, 204.01606425702798)]\n",
      "[(9.010325047801153, 70.2103250478012, 61.20000000000004, 85.45751633986923)]\n"
     ]
    }
   ],
   "source": [
    "res = []\n",
    "for i in range(len(mas)):\n",
    "    t = c_to_v(mas[i][0], mas[i][1])\n",
    "    print(t)\n",
    "    if t != []:\n",
    "        res.append(\n",
    "            (\n",
    "                mas[i][0],\n",
    "                mas[i][1],\n",
    "                t[0][0],\n",
    "                t[0][1],\n",
    "                t[0][2],\n",
    "                t[0][3],\n",
    "                t[0][0] + t[0][1] + t[0][2],\n",
    "            )\n",
    "        )"
   ]
  },
  {
   "cell_type": "code",
   "execution_count": 15,
   "metadata": {},
   "outputs": [],
   "source": [
    "df = pd.DataFrame(res)\n",
    "\n",
    "df.to_excel(\"20 точек ihs.xlsx\", index=False)"
   ]
  }
 ],
 "metadata": {
  "kernelspec": {
   "display_name": "Python 3",
   "language": "python",
   "name": "python3"
  },
  "language_info": {
   "codemirror_mode": {
    "name": "ipython",
    "version": 3
   },
   "file_extension": ".py",
   "mimetype": "text/x-python",
   "name": "python",
   "nbconvert_exporter": "python",
   "pygments_lexer": "ipython3",
   "version": "3.11.0"
  }
 },
 "nbformat": 4,
 "nbformat_minor": 2
}
