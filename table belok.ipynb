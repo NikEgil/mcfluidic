{
 "cells": [
  {
   "cell_type": "code",
   "execution_count": 1,
   "metadata": {},
   "outputs": [],
   "source": [
    "import os\n",
    "import numpy as np\n",
    "from numpy.random import default_rng\n",
    "from pyfitit.ihs import ihs\n",
    "import math\n",
    "import random\n",
    "import pandas as pd\n",
    "import matplotlib.pyplot as plt"
   ]
  },
  {
   "cell_type": "code",
   "execution_count": 2,
   "metadata": {},
   "outputs": [],
   "source": [
    "# скорость белок задаютсся в мкл/сек\n",
    "v1_s = 0.13\n",
    "v1_e = 16\n",
    "v1_d = 0.005\n",
    "# скорость осадитель\n",
    "v2_s = 0\n",
    "v2_e = 16\n",
    "v2_d = 0.005\n",
    "# скорость разбавитель\n",
    "v3_s = 0\n",
    "v3_e = 40\n",
    "v3_d = 0.005\n",
    "# объем выдавливаемой смеси, мкл\n",
    "volume = 25\n",
    "# концентрации реагентов в шприцах\n",
    "c1_def = 120\n",
    "c2_def = 60\n",
    "c3_def = 0\n",
    "# области вариации концентраций в капле\n",
    "c1_s = 0\n",
    "c1_e = 60\n",
    "\n",
    "c2_s = 0\n",
    "c2_e = 30"
   ]
  },
  {
   "cell_type": "code",
   "execution_count": 3,
   "metadata": {},
   "outputs": [],
   "source": [
    "def c_to_v(c_b, c_o):\n",
    "    capa = (c1_def / c2_def) * c_o / c_b\n",
    "    #    print(capa)\n",
    "    # рассчет всех возможных комбинаций скоростей\n",
    "    x = []\n",
    "    for v3 in np.arange(v3_s, v3_e, v3_d):\n",
    "        v_b = c_b * v3\n",
    "        v_b /= c1_def - c_b * (1 + capa)\n",
    "        v_o = capa * v_b\n",
    "        # if -0.01<v_b-round(v_b,2)<0.01 and -0.001<v_o-round(v_o,2)<0.01:\n",
    "        x.append((v_b, v_o, v3))\n",
    "        # break\n",
    "    # выбор тех что наиболее близки к округленному значению\n",
    "    a = []\n",
    "    for i in range(len(x)):\n",
    "        if (-0.0001 < x[i][0] - round(x[i][0], 3) < 0.0001 and -0.0001 < x[i][1] - round(x[i][1],3) < 0.0001 ):\n",
    "            if x[i][0] > v1_s and x[i][2] > v2_s:\n",
    "                a.append(x[i])\n",
    "    b = []\n",
    "    # выбор тех кто лежат в пределе 10-20 секунд выкапывания\n",
    "    for i in range(len(a)):\n",
    "        sum = a[i][0] + a[i][1] + a[i][2]\n",
    "        time = volume / (sum)\n",
    "\n",
    "        if 2<time <60:\n",
    "            b.append((a[i][0], a[i][1], a[i][2], time))\n",
    "            break\n",
    "    return b\n",
    "\n",
    "\n",
    "# b[0],b[1],b[2],b[3]"
   ]
  },
  {
   "cell_type": "code",
   "execution_count": 24,
   "metadata": {},
   "outputs": [
    {
     "data": {
      "text/plain": [
       "[(0.21, 0.0, 0.21, 59.523809523809526)]"
      ]
     },
     "execution_count": 24,
     "metadata": {},
     "output_type": "execute_result"
    }
   ],
   "source": [
    "c_to_v(60,0)"
   ]
  },
  {
   "cell_type": "markdown",
   "metadata": {},
   "source": [
    "для фикса"
   ]
  },
  {
   "cell_type": "code",
   "execution_count": null,
   "metadata": {},
   "outputs": [],
   "source": [
    "mas = [\n",
    "    [5, 15],\n",
    "    [10, 28],\n",
    "    [15, 8],\n",
    "    [20, 24],\n",
    "    [25, 6],\n",
    "    [30, 0],\n",
    "    [35, 30],\n",
    "    [40, 17],\n",
    "    [45, 10],\n",
    "    [50, 26],\n",
    "    [55, 3],\n",
    "    [60, 15],\n",
    "]\n",
    "for i in range(len(mas)):\n",
    "    plt.scatter(mas[i][0], mas[i][1])"
   ]
  },
  {
   "cell_type": "code",
   "execution_count": null,
   "metadata": {},
   "outputs": [],
   "source": [
    "res = c_to_v(75.0, 22.1)\n",
    "print(res)"
   ]
  },
  {
   "cell_type": "markdown",
   "metadata": {},
   "source": [
    "для рандома ihs"
   ]
  },
  {
   "cell_type": "code",
   "execution_count": 6,
   "metadata": {},
   "outputs": [
    {
     "name": "stdout",
     "output_type": "stream",
     "text": [
      "3.9\n"
     ]
    },
    {
     "data": {
      "image/png": "[encoded data removed]",
      "text/plain": [
       "<Figure size 640x480 with 1 Axes>"
      ]
     },
     "metadata": {},
     "output_type": "display_data"
    }
   ],
   "source": [
    "n = 100\n",
    "bounds = [(0, 60), (0, 30)]\n",
    "res = ihs(2, n, seed=random.seed())\n",
    "samples = []\n",
    "for row in res:\n",
    "    r = []\n",
    "    for i, interval in zip(range(len(row)), bounds):\n",
    "        r.append(interval[0] + (row[i] * 1.0 / n) * (interval[1] - interval[0]))\n",
    "    samples.append(r)\n",
    "real_values = []\n",
    "\n",
    "for s in samples:\n",
    "    x1 = round(s[0], 6)\n",
    "    x3 = round(s[1], 6)\n",
    "    real_values.append([x1, x3])\n",
    "df = pd.DataFrame(real_values)\n",
    "# df = df.round(1)\n",
    "# plt.scatter(df[0].values, df[2].values)\n",
    "mas = df.values.tolist()\n",
    "print(df[1][0])\n",
    "for i in range(len(df)):\n",
    "    plt.scatter(df[0][i], df[1][i])"
   ]
  },
  {
   "cell_type": "code",
   "execution_count": 7,
   "metadata": {},
   "outputs": [
    {
     "data": {
      "text/plain": [
       "98"
      ]
     },
     "execution_count": 7,
     "metadata": {},
     "output_type": "execute_result"
    }
   ],
   "source": [
    "res = []\n",
    "for i in range(len(mas)):\n",
    "    t = c_to_v(mas[i][0], mas[i][1])\n",
    "    if len(t)>0:\n",
    "        res.append(\n",
    "            (\n",
    "                mas[i][0],  # К белка\n",
    "                mas[i][1],  # К осад\n",
    "                t[0][0],  # v белка\n",
    "                t[0][1],  # v осад\n",
    "                t[0][2],  # v разбав\n",
    "                t[0][3],  # время\n",
    "                t[0][0] + t[0][1] + t[0][2],  # сум скорость\n",
    "            )\n",
    "        )\n",
    "len(res)"
   ]
  },
  {
   "cell_type": "code",
   "execution_count": 8,
   "metadata": {},
   "outputs": [],
   "source": [
    "df = pd.DataFrame(\n",
    "    res, columns=[\"c белка\", \"c осад\", \"v белка\", \"v осад\", \"v разб\", \"time\", \"v sum\"]\n",
    ")\n",
    "df = df.sort_values(by=\"c белка\", ascending=True)\n",
    "df = df.reset_index()\n",
    "df\n",
    "df.to_excel(\"точки ihs.xlsx\", index=False)"
   ]
  },
  {
   "cell_type": "code",
   "execution_count": 17,
   "metadata": {},
   "outputs": [
    {
     "name": "stdout",
     "output_type": "stream",
     "text": [
      "12.75 85.875 3692.0363558268273 12\n",
      "43.5 152.25 3815.9109222866537 12\n",
      "87.5 221.875 3612.673736556162 11\n",
      "заправка 0 0\n",
      "44.5 43.875 3661.0475399964143 11\n",
      "118.75 112.875 3733.4691341753164 11\n",
      "208.125 191.25 3721.3566177629477 11\n",
      "заправка 0 0\n",
      "68.25 39.125 3734.0290583330293 11\n",
      "187.875 103.25 3695.649198864023 11\n",
      "заправка 0 0\n"
     ]
    }
   ],
   "source": [
    "table = []\n",
    "wait = (0, 0, 0, 0, None, None, 300)\n",
    "q = 0\n",
    "v1 = 0\n",
    "v2 = 0\n",
    "time=0\n",
    "c=0\n",
    "for i in range(len(df)):\n",
    "    c+=1\n",
    "    v1 += df.loc[i][\"v белка\"] * df.loc[i][\"time\"]\n",
    "    v2 += df.loc[i][\"v осад\"] * df.loc[i][\"time\"]\n",
    "    time+=df.loc[i][\"time\"]\n",
    "    time+=300\n",
    "    if v1 > 240 or v2 > 240:\n",
    "        v1 = 0\n",
    "        v2 = 0\n",
    "        print('заправка',v1, v2)\n",
    "    if v1 > 240 or v2 > 240 or time >60*1*60:\n",
    "        print(v1, v2, time,c)\n",
    "        name = \"расписание \" + str(q) + \".xlsx\"\n",
    "        pd.DataFrame(table).to_excel(name)\n",
    "        table = []\n",
    "        time=0\n",
    "        q += 1\n",
    "        c=0\n",
    "    table.append(\n",
    "        (\n",
    "            df.loc[i][\"v белка\"],\n",
    "            df.loc[i][\"v осад\"],\n",
    "            df.loc[i][\"v разб\"],\n",
    "            0,\n",
    "            None,\n",
    "            None,\n",
    "            df.loc[i][\"time\"],\n",
    "        )\n",
    "    )\n",
    "    table.append(wait)"
   ]
  },
  {
   "cell_type": "code",
   "execution_count": 10,
   "metadata": {},
   "outputs": [
    {
     "data": {
      "text/plain": [
       "(0.0, 60.0)"
      ]
     },
     "execution_count": 10,
     "metadata": {},
     "output_type": "execute_result"
    },
    {
     "data": {
      "image/png": "[encoded data removed]",
      "text/plain": [
       "<Figure size 640x480 with 1 Axes>"
      ]
     },
     "metadata": {},
     "output_type": "display_data"
    }
   ],
   "source": [
    "plt.scatter(df['c белка'],df['c осад'])\n",
    "plt.xlim(0,60)"
   ]
  }
 ],
 "metadata": {
  "kernelspec": {
   "display_name": "Python 3",
   "language": "python",
   "name": "python3"
  },
  "language_info": {
   "codemirror_mode": {
    "name": "ipython",
    "version": 3
   },
   "file_extension": ".py",
   "mimetype": "text/x-python",
   "name": "python",
   "nbconvert_exporter": "python",
   "pygments_lexer": "ipython3",
   "version": "3.11.0"
  }
 },
 "nbformat": 4,
 "nbformat_minor": 2
}
