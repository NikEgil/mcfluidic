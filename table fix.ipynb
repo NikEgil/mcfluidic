{
 "cells": [
  {
   "cell_type": "code",
   "execution_count": 9,
   "metadata": {},
   "outputs": [],
   "source": [
    "import os\n",
    "import pandas as pd\n",
    "import numpy as np\n",
    "from numpy.random import default_rng"
   ]
  },
  {
   "cell_type": "code",
   "execution_count": 13,
   "metadata": {},
   "outputs": [],
   "source": [
    "#скорость 1\n",
    "v1_s=0\n",
    "v1_e=5\n",
    "v1_d=0.1\n",
    "#скорость 2\n",
    "v2=0.7\n",
    "#скорость 3\n",
    "v3_s=0\n",
    "v3_e=5\n",
    "v3_d=0.1\n",
    "#cost скорость потока реагентов\n",
    "vs=5\n",
    "#const скорость масла\n",
    "v4m=5"
   ]
  },
  {
   "cell_type": "code",
   "execution_count": 14,
   "metadata": {},
   "outputs": [],
   "source": [
    "time_point=30\n",
    "time_proliv=15\n",
    "zero_str=(0,0,0,0,None,None,1)\n",
    "proliv=(0,0,0,vs+v4m,None,None,time_proliv)\n",
    "start_str=(0,0,0,vs+v4m,None,None,30)\n",
    "end_str=(0,0,0,vs+v4m,None,None,180)\n"
   ]
  },
  {
   "cell_type": "code",
   "execution_count": 15,
   "metadata": {},
   "outputs": [],
   "source": [
    "table=[]\n",
    "for v1 in np.arange(v1_s,v1_e+0.1,v1_d):\n",
    "    for v3 in np.arange(v3_s,v3_e+0.1,v3_d):\n",
    "        if v1+v2+v3==vs:\n",
    "            table.append((v1,v2,v3,v4m,None,None,time_point,1,v1+v2+v3+v4m))\n",
    "        else:continue"
   ]
  },
  {
   "cell_type": "code",
   "execution_count": 16,
   "metadata": {},
   "outputs": [
    {
     "name": "stdout",
     "output_type": "stream",
     "text": [
      "[ 2 30 31  8 21 16 17  3 11 20 19  6 14 34 26 10 35 23 36 13 28 27 25  1\n",
      "  7 29 32 15  0 24  5 22 18 37 33  4 12 38  9]\n",
      "300\n",
      "600\n",
      "900\n",
      "1200\n",
      "1500\n",
      "1800\n",
      "2100\n",
      "2400\n",
      "2700\n",
      "3000\n",
      "3300\n",
      "3600\n",
      "3900\n",
      "4200\n",
      "4500\n",
      "4800\n",
      "5100\n",
      "5400\n",
      "5700\n",
      "6000\n",
      "6300\n",
      "6600\n",
      "6900\n",
      "7200\n",
      "zapravka   24\n",
      "300\n",
      "600\n",
      "900\n",
      "1200\n",
      "1500\n",
      "1800\n",
      "2100\n",
      "2400\n",
      "2700\n",
      "3000\n",
      "3300\n",
      "3600\n",
      "3900\n",
      "4200\n",
      "4500\n",
      "[]\n"
     ]
    }
   ],
   "source": [
    "schedule=[]\n",
    "#schedule.append(start_str)\n",
    "schedule.append(zero_str)\n",
    "\n",
    "vol=0\n",
    "\n",
    "rng = default_rng()\n",
    "numbers = rng.choice(len(table), size=len(table), replace=False)\n",
    "print(numbers)\n",
    "zp=[]\n",
    "a=0\n",
    "for i in numbers:\n",
    "    schedule.append(table[i][0:7])\n",
    "    schedule.append(zero_str)\n",
    "    schedule.append(proliv)\n",
    "    schedule.append(zero_str)\n",
    "    vol+=table[i][3]*table[i][6]+proliv[3]*proliv[6]\n",
    "    print(vol)\n",
    "    a+=1\n",
    "    if vol>7000:\n",
    "        print(\"zapravka   \" + str(a))\n",
    "        schedule.append(\"заправка\")\n",
    "        schedule.append(zero_str)\n",
    "        vol=0\n",
    "schedule.append(end_str)\n",
    "\n",
    "data=pd.DataFrame(schedule)\n",
    "data=data.assign(q=np.ones(len(schedule)))\n",
    "data=data.assign(time=np.arange(2,len(schedule)+2))\n",
    "data.to_excel(\"сумма 5, масло фикс 1.xlsx\",   index= False, header= False )\n",
    "\n",
    "print(zp)"
   ]
  },
  {
   "cell_type": "code",
   "execution_count": null,
   "metadata": {},
   "outputs": [],
   "source": []
  }
 ],
 "metadata": {
  "kernelspec": {
   "display_name": "Python 3",
   "language": "python",
   "name": "python3"
  },
  "language_info": {
   "codemirror_mode": {
    "name": "ipython",
    "version": 3
   },
   "file_extension": ".py",
   "mimetype": "text/x-python",
   "name": "python",
   "nbconvert_exporter": "python",
   "pygments_lexer": "ipython3",
   "version": "3.11.0"
  }
 },
 "nbformat": 4,
 "nbformat_minor": 2
}
