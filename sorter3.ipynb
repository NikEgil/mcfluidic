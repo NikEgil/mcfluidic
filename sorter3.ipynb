{
 "cells": [
  {
   "cell_type": "markdown",
   "metadata": {},
   "source": [
    "импорты и константы"
   ]
  },
  {
   "cell_type": "code",
   "execution_count": 23,
   "metadata": {},
   "outputs": [],
   "source": [
    "import os\n",
    "import numpy as np\n",
    "from natsort import natsorted\n",
    "import matplotlib.pyplot as plt\n",
    "import re\n",
    "import concurrent.futures\n",
    "import shutil\n",
    "import pandas as pd\n",
    "import time"
   ]
  },
  {
   "cell_type": "code",
   "execution_count": 51,
   "metadata": {},
   "outputs": [],
   "source": [
    "# 153.8336486816406250 884.2712384333286764    измеряемый диапазон. 0-2136 диапазон данных\n",
    "start_nm = 500  # нм\n",
    "end_nm = 650  # нм\n",
    "\n",
    "x = pd.read_excel(\"x points nm.xlsx\")\n",
    "x = np.array(x[\"nm\"].values[1 : len(x) - 1])\n",
    "\n",
    "def nm_to_x(nm):\n",
    "    return xint.index(nm) + 1\n",
    "def x_to_nm(index):\n",
    "    return x[index]\n",
    "\n",
    "\n",
    "# номера точек в массиве по координате х\n",
    "for i in range(len(x)):\n",
    "    if x[i] > start_nm:\n",
    "        start_x = i\n",
    "        break\n",
    "for i in range(len(x) - 1, 0, -1):\n",
    "    if x[i] < end_nm:\n",
    "        end_x = i\n",
    "        break\n",
    "x = x[start_x:end_x]\n",
    "xint = list(np.array(x, dtype=int))\n"
   ]
  },
  {
   "cell_type": "markdown",
   "metadata": {},
   "source": [
    "получение максимумов из спектров"
   ]
  },
  {
   "cell_type": "code",
   "execution_count": 52,
   "metadata": {},
   "outputs": [
    {
     "name": "stdout",
     "output_type": "stream",
     "text": [
      "D:/Data/new test/spectra3/\n",
      "137926  файлов\n",
      "[[0, 11493], [11493, 22986], [22986, 34479], [34479, 45972], [45972, 57465], [57465, 68958], [68958, 80451], [80451, 91944], [91944, 103437], [103437, 114930], [114930, 126423], [126423, 137926]]\n",
      "получено 137926 максимумов спектров\n"
     ]
    }
   ],
   "source": [
    "main_folder = r\"D:\\Data\\new test\\spectra3\"\n",
    "main_folder = main_folder.replace(chr(92), \"/\")\n",
    "main_folder += \"/\"\n",
    "print(main_folder)\n",
    "file_list = np.array(natsorted(os.listdir(main_folder)))\n",
    "print(len(file_list), \" файлов\")  # изанчальные графики\n",
    "\n",
    "data_max = np.zeros(len(file_list))\n",
    "data_tail = np.zeros(len(file_list))\n",
    "\n",
    "h=len(file_list)//12\n",
    "q=len(file_list)%12\n",
    "m=[]\n",
    "for i in range(12):\n",
    "    if i==11:\n",
    "        m.append([h*i,h*(i+1)+q])\n",
    "    else:\n",
    "        m.append([h*i,h*(i+1)])\n",
    "print(m)\n",
    "\n",
    "def get_max_rmr(op):\n",
    "    for i in range(op[0],op[1]):\n",
    "        with open(main_folder + file_list[i], \"r\", encoding=\"utf8\") as spec:\n",
    "            spec = re.split(\",\", spec.read())\n",
    "            d= np.array(spec[start_x:end_x], dtype=float)\n",
    "            data_max[i]=np.max(d)\n",
    "            data_tail[i]=data_max[i]-d[440]\n",
    "\n",
    "    \n",
    "\n",
    "\n",
    "with concurrent.futures.ThreadPoolExecutor() as executor:\n",
    "    executor.map(get_max_rmr, m)\n",
    "\n",
    "print(\"получено \" + str(len(data_max)) + \" максимумов спектров\")"
   ]
  },
  {
   "cell_type": "markdown",
   "metadata": {},
   "source": [
    "максимумы на таймлайнах"
   ]
  },
  {
   "cell_type": "code",
   "execution_count": 53,
   "metadata": {},
   "outputs": [],
   "source": [
    "_step = 400\n",
    "_sp = 0\n",
    "_ep = _step\n",
    "\n",
    "# создание папки для сохранения картинок\n",
    "dist_folder = r\"D:\\Data\\new test\"\n",
    "dist_folder = dist_folder.replace(chr(92), \"/\")\n",
    "dist_folder += \"/\"\n",
    "folder_name = \"t3\"\n",
    "if not os.path.exists(os.path.join(dist_folder, folder_name)):\n",
    "    os.makedirs(os.path.join(dist_folder, folder_name))\n",
    "\n",
    "# расчет гистограммы\n",
    "num_bins = 10  # количество интервалов\n",
    "range_values = (np.max(data_max) - np.min(data_max)) / num_bins\n",
    "# границы интервалов\n",
    "bin_edges = np.arange(np.min(data_max), np.max(data_max) + range_values, range_values)\n",
    "# середины интервалов\n",
    "bins = bin_edges[:-1] + range_values / 2\n",
    "\n",
    "hist, _ = np.histogram(data_max, bins=bin_edges)\n",
    "\n",
    "zero = bin_edges[np.argmax(hist) + 1]\n",
    "fig, ax = plt.subplots(figsize=(10, 6), dpi=120)\n",
    "fig.suptitle(\"гистограмма\")\n",
    "ax.hist(data_max, bin_edges, alpha=0.6, color=\"blue\", edgecolor=\"k\", linewidth=1)\n",
    "ax.plot(bins, hist, color=\"red\", lw=2)\n",
    "plt.xticks(rotation=90)\n",
    "ax.set_xticks(bin_edges)\n",
    "plt.savefig(dist_folder + \"/\" + folder_name + \"/\" + \"гистограмма.png\")\n",
    "\n",
    "m = np.min(data_max) * 0.8\n",
    "m2 = np.max(data_max) * 0.5\n",
    "\n",
    "for i in range(round(len(data_max) / (3 * _step))):\n",
    "    fig, axs = plt.subplots(3, 1, figsize=(10, 6), dpi=120)\n",
    "    plt.ioff()\n",
    "    _s = _sp\n",
    "    for j in range(3):\n",
    "        if _ep > len(data_max):\n",
    "            _ep = len(data_max)\n",
    "        axs[j].plot(np.arange(_sp, _ep, 1), data_max[_sp:_ep], lw=1, color=\"blue\")\n",
    "        axs[j].scatter(np.arange(_sp, _ep, 1), data_max[_sp:_ep], s=4, color=\"black\")\n",
    "        axs[j].scatter(np.arange(_sp, _ep, 1), data_tail[_sp:_ep], s=4, color=\"red\")\n",
    "        axs[j].plot((_sp, _ep), (zero, zero), color=\"orange\")\n",
    "        axs[j].set_ylim(0, 0.5)\n",
    "        _sp += _step\n",
    "        _ep += _step\n",
    "\n",
    "    _e = _ep - _step\n",
    "    fig.suptitle(\"спектры \" + str(_s) + \"-\" + str(_e))\n",
    "    plt.savefig(\n",
    "        dist_folder\n",
    "        + \"/\"\n",
    "        + folder_name\n",
    "        + \"/\"\n",
    "        + \"ряд максимумов \"\n",
    "        + str(_s)\n",
    "        + \"-\"\n",
    "        + str(_e)\n",
    "        + \".png\"\n",
    "    )"
   ]
  },
  {
   "cell_type": "code",
   "execution_count": 7,
   "metadata": {},
   "outputs": [
    {
     "name": "stdout",
     "output_type": "stream",
     "text": [
      "7\n",
      "[(10500, 12000), (14500, 16500), (19500, 21500), (24000, 24500), (43000, 44000), (46000, 47500), (49500, 51000)]\n"
     ]
    }
   ],
   "source": [
    "point_index = []\n",
    "_point = False\n",
    "k = []\n",
    "zero = 0.05\n",
    "s = 500\n",
    "for i in range(0, len(data_max), s):\n",
    "    ar = np.mean(data_max[i : i + s])\n",
    "    if ar > zero:\n",
    "        k.append(i)\n",
    "        _point = True\n",
    "    if ar < zero and _point == True:\n",
    "        point_index.append((k[0], i))\n",
    "        k = []\n",
    "        _point = False\n",
    "    if _point == True and i >= len(data_max) - s:\n",
    "        point_index.append((k[0], len(data_max) - 1))\n",
    "print(len(point_index))\n",
    "print(point_index)"
   ]
  },
  {
   "cell_type": "code",
   "execution_count": 55,
   "metadata": {},
   "outputs": [
    {
     "name": "stdout",
     "output_type": "stream",
     "text": [
      "1   [3900, 8700]     4800\n",
      "2   [11400, 15850]     4450\n",
      "3   [18800, 24100]     5300\n",
      "4   [26900, 31500]     4600\n",
      "5   [34350, 39150]     4800\n",
      "6   [46550, 51350]     4800\n",
      "7   [54000, 58800]     4800\n",
      "8   [61400, 66550]     5150\n",
      "9   [69450, 74000]     4550\n",
      "10   [76850, 81400]     4550\n",
      "11   [88900, 93800]     4900\n",
      "12   [96450, 101200]     4750\n",
      "13   [103800, 108800]     5000\n",
      "14   [111800, 116100]     4300\n",
      "15   [118500, 122500]     4000\n",
      "16   [128900, 132950]     4050\n"
     ]
    }
   ],
   "source": [
    "for i in range(len(point_index)):\n",
    "    print(i+1, ' ',point_index[i], \"   \", point_index[i][1] - point_index[i][0])"
   ]
  },
  {
   "cell_type": "code",
   "execution_count": 54,
   "metadata": {},
   "outputs": [],
   "source": [
    "point_index = [\n",
    "[3900,8700],\n",
    "[11400,15850],\n",
    "[18800,24100],\n",
    "[26900,31500],\n",
    "[34350,39150],\n",
    "\n",
    "[46550,51350],\n",
    "[54000,58800],\n",
    "[61400,66550],\n",
    "[69450,74000],\n",
    "[76850,81400],\n",
    "\n",
    "[88900,93800],\n",
    "[96450,101200],\n",
    "[103800,108800],\n",
    "[111800,116100],\n",
    "[118500,122500],\n",
    "[128900,132950]\n",
    "]"
   ]
  },
  {
   "cell_type": "code",
   "execution_count": 56,
   "metadata": {},
   "outputs": [],
   "source": [
    "dist_folder = r\"D:\\Data\\new test\"\n",
    "dist_folder = dist_folder.replace(chr(92), \"/\")\n",
    "dist_folder += \"/\"\n",
    "\n",
    "folder_name = \"p3\"\n",
    "d_name = \"3_\"\n",
    "\n",
    "\n",
    "if os.path.exists(os.path.join(dist_folder, folder_name)):\n",
    "\n",
    "    shutil.rmtree(dist_folder + \"/\" + folder_name)\n",
    "\n",
    "\n",
    "os.makedirs(os.path.join(dist_folder, folder_name))\n",
    "\n",
    "\n",
    "for i in range(len(point_index)):\n",
    "\n",
    "    os.makedirs(os.path.join(dist_folder + \"/\" + folder_name, d_name + str(i + 1)))"
   ]
  },
  {
   "cell_type": "code",
   "execution_count": 57,
   "metadata": {},
   "outputs": [
    {
     "name": "stdout",
     "output_type": "stream",
     "text": [
      "D:/Data/new test/\n",
      "3_ 1   4800\n",
      "3_ 2   4450\n",
      "3_ 3   5300\n",
      "3_ 4   4600\n",
      "3_ 5   4800\n",
      "3_ 6   4800\n",
      "3_ 7   4800\n",
      "3_ 8   5150\n",
      "3_ 9   4550\n",
      "3_ 10   4550\n",
      "3_ 11   4900\n",
      "3_ 12   4750\n",
      "3_ 13   5000\n",
      "3_ 14   4300\n",
      "3_ 15   4000\n",
      "3_ 16   4050\n"
     ]
    }
   ],
   "source": [
    "main_folder = r\"D:\\Data\\new test\\spectra3\"\n",
    "main_folder = main_folder.replace(chr(92), \"/\")\n",
    "main_folder += \"/\"\n",
    "file_list = np.array(natsorted(os.listdir(main_folder)))\n",
    "print(dist_folder)\n",
    "\n",
    "\n",
    "for i in range(len(point_index)):\n",
    "\n",
    "    dist = dist_folder + \"/\" + folder_name + \"/\" + d_name + str(i + 1)\n",
    "\n",
    "    for j in range(point_index[i][0], point_index[i][1]):\n",
    "\n",
    "        shutil.copy2(main_folder + str(file_list[j]), dist)\n",
    "\n",
    "    print(d_name, i + 1, \" \", point_index[i][1] - point_index[i][0])"
   ]
  }
 ],
 "metadata": {
  "kernelspec": {
   "display_name": "Python 3",
   "language": "python",
   "name": "python3"
  },
  "language_info": {
   "codemirror_mode": {
    "name": "ipython",
    "version": 3
   },
   "file_extension": ".py",
   "mimetype": "text/x-python",
   "name": "python",
   "nbconvert_exporter": "python",
   "pygments_lexer": "ipython3",
   "version": "3.11.0"
  }
 },
 "nbformat": 4,
 "nbformat_minor": 2
}
