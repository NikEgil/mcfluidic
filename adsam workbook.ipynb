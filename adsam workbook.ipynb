{
 "cells": [
  {
   "cell_type": "code",
   "execution_count": 4,
   "metadata": {},
   "outputs": [],
   "source": [
    "import os, shutil\n",
    "import numpy as np\n",
    "from minlpe import minlpe, nextPoint\n",
    "\n",
    "\n",
    "debug = False\n",
    "folder = \"tmp\" + os.sep + \"minlpe\"\n",
    "if os.path.exists(folder + \"3\"):\n",
    "    shutil.rmtree(folder + \"3\")\n",
    "samplerParams = dict(seed=0, samplerTimeConstraint=None, debug=debug)"
   ]
  },
  {
   "cell_type": "code",
   "execution_count": 10,
   "metadata": {},
   "outputs": [],
   "source": [
    "bounds = [[0, 60], [0, 60]]\n",
    "# параметры\n",
    "X = [[0, 15.0], [20.0, 30.0]]\n",
    "# результаты\n",
    "Y = [10.0, 20.0]"
   ]
  },
  {
   "cell_type": "code",
   "execution_count": 11,
   "metadata": {},
   "outputs": [
    {
     "name": "stdout",
     "output_type": "stream",
     "text": [
      "newX1 = [59.79023193 15.        ]\n"
     ]
    }
   ],
   "source": [
    "newX1 = nextPoint(X, Y, bounds=bounds, **samplerParams)\n",
    "print(\"newX1 =\", newX1)"
   ]
  }
 ],
 "metadata": {
  "kernelspec": {
   "display_name": "Python 3",
   "language": "python",
   "name": "python3"
  },
  "language_info": {
   "codemirror_mode": {
    "name": "ipython",
    "version": 3
   },
   "file_extension": ".py",
   "mimetype": "text/x-python",
   "name": "python",
   "nbconvert_exporter": "python",
   "pygments_lexer": "ipython3",
   "version": "3.11.0"
  }
 },
 "nbformat": 4,
 "nbformat_minor": 2
}
