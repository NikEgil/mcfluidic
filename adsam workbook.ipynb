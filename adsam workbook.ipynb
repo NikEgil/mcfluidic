{
 "cells": [
  {
   "cell_type": "code",
   "execution_count": 25,
   "metadata": {},
   "outputs": [],
   "source": [
    "import os, shutil\n",
    "import numpy as np\n",
    "import pandas as pd\n",
    "from minlpe import minlpe, nextPoint\n",
    "from matplotlib import pyplot as plt\n",
    "\n",
    "samplerParams = dict(seed=0, samplerTimeConstraint=None, debug=False)"
   ]
  },
  {
   "cell_type": "code",
   "execution_count": 36,
   "metadata": {},
   "outputs": [
    {
     "data": {
      "text/html": [
       "<div>\n",
       "<style scoped>\n",
       "    .dataframe tbody tr th:only-of-type {\n",
       "        vertical-align: middle;\n",
       "    }\n",
       "\n",
       "    .dataframe tbody tr th {\n",
       "        vertical-align: top;\n",
       "    }\n",
       "\n",
       "    .dataframe thead th {\n",
       "        text-align: right;\n",
       "    }\n",
       "</style>\n",
       "<table border=\"1\" class=\"dataframe\">\n",
       "  <thead>\n",
       "    <tr style=\"text-align: right;\">\n",
       "      <th></th>\n",
       "      <th>X</th>\n",
       "      <th>Y</th>\n",
       "      <th>Z</th>\n",
       "    </tr>\n",
       "  </thead>\n",
       "  <tbody>\n",
       "    <tr>\n",
       "      <th>0</th>\n",
       "      <td>-2.000000</td>\n",
       "      <td>-2.000000</td>\n",
       "      <td>-2.000000</td>\n",
       "    </tr>\n",
       "    <tr>\n",
       "      <th>1</th>\n",
       "      <td>-1.789474</td>\n",
       "      <td>-1.789474</td>\n",
       "      <td>-1.789474</td>\n",
       "    </tr>\n",
       "    <tr>\n",
       "      <th>2</th>\n",
       "      <td>-1.578947</td>\n",
       "      <td>-1.578947</td>\n",
       "      <td>-1.578947</td>\n",
       "    </tr>\n",
       "    <tr>\n",
       "      <th>3</th>\n",
       "      <td>-1.368421</td>\n",
       "      <td>-1.368421</td>\n",
       "      <td>-1.368421</td>\n",
       "    </tr>\n",
       "    <tr>\n",
       "      <th>4</th>\n",
       "      <td>-1.157895</td>\n",
       "      <td>-1.157895</td>\n",
       "      <td>-1.157895</td>\n",
       "    </tr>\n",
       "    <tr>\n",
       "      <th>5</th>\n",
       "      <td>-0.947368</td>\n",
       "      <td>-0.947368</td>\n",
       "      <td>-0.947368</td>\n",
       "    </tr>\n",
       "    <tr>\n",
       "      <th>6</th>\n",
       "      <td>-0.736842</td>\n",
       "      <td>-0.736842</td>\n",
       "      <td>-0.736842</td>\n",
       "    </tr>\n",
       "    <tr>\n",
       "      <th>7</th>\n",
       "      <td>-0.526316</td>\n",
       "      <td>-0.526316</td>\n",
       "      <td>-0.526316</td>\n",
       "    </tr>\n",
       "    <tr>\n",
       "      <th>8</th>\n",
       "      <td>-0.315789</td>\n",
       "      <td>-0.315789</td>\n",
       "      <td>-0.315789</td>\n",
       "    </tr>\n",
       "    <tr>\n",
       "      <th>9</th>\n",
       "      <td>-0.105263</td>\n",
       "      <td>-0.105263</td>\n",
       "      <td>-0.105263</td>\n",
       "    </tr>\n",
       "    <tr>\n",
       "      <th>10</th>\n",
       "      <td>0.105263</td>\n",
       "      <td>0.105263</td>\n",
       "      <td>0.105263</td>\n",
       "    </tr>\n",
       "    <tr>\n",
       "      <th>11</th>\n",
       "      <td>0.315789</td>\n",
       "      <td>0.315789</td>\n",
       "      <td>0.315789</td>\n",
       "    </tr>\n",
       "    <tr>\n",
       "      <th>12</th>\n",
       "      <td>0.526316</td>\n",
       "      <td>0.526316</td>\n",
       "      <td>0.526316</td>\n",
       "    </tr>\n",
       "    <tr>\n",
       "      <th>13</th>\n",
       "      <td>0.736842</td>\n",
       "      <td>0.736842</td>\n",
       "      <td>0.736842</td>\n",
       "    </tr>\n",
       "    <tr>\n",
       "      <th>14</th>\n",
       "      <td>0.947368</td>\n",
       "      <td>0.947368</td>\n",
       "      <td>0.947368</td>\n",
       "    </tr>\n",
       "    <tr>\n",
       "      <th>15</th>\n",
       "      <td>1.157895</td>\n",
       "      <td>1.157895</td>\n",
       "      <td>1.157895</td>\n",
       "    </tr>\n",
       "    <tr>\n",
       "      <th>16</th>\n",
       "      <td>1.368421</td>\n",
       "      <td>1.368421</td>\n",
       "      <td>1.368421</td>\n",
       "    </tr>\n",
       "    <tr>\n",
       "      <th>17</th>\n",
       "      <td>1.578947</td>\n",
       "      <td>1.578947</td>\n",
       "      <td>1.578947</td>\n",
       "    </tr>\n",
       "    <tr>\n",
       "      <th>18</th>\n",
       "      <td>1.789474</td>\n",
       "      <td>1.789474</td>\n",
       "      <td>1.789474</td>\n",
       "    </tr>\n",
       "    <tr>\n",
       "      <th>19</th>\n",
       "      <td>2.000000</td>\n",
       "      <td>2.000000</td>\n",
       "      <td>2.000000</td>\n",
       "    </tr>\n",
       "  </tbody>\n",
       "</table>\n",
       "</div>"
      ],
      "text/plain": [
       "           X         Y         Z\n",
       "0  -2.000000 -2.000000 -2.000000\n",
       "1  -1.789474 -1.789474 -1.789474\n",
       "2  -1.578947 -1.578947 -1.578947\n",
       "3  -1.368421 -1.368421 -1.368421\n",
       "4  -1.157895 -1.157895 -1.157895\n",
       "5  -0.947368 -0.947368 -0.947368\n",
       "6  -0.736842 -0.736842 -0.736842\n",
       "7  -0.526316 -0.526316 -0.526316\n",
       "8  -0.315789 -0.315789 -0.315789\n",
       "9  -0.105263 -0.105263 -0.105263\n",
       "10  0.105263  0.105263  0.105263\n",
       "11  0.315789  0.315789  0.315789\n",
       "12  0.526316  0.526316  0.526316\n",
       "13  0.736842  0.736842  0.736842\n",
       "14  0.947368  0.947368  0.947368\n",
       "15  1.157895  1.157895  1.157895\n",
       "16  1.368421  1.368421  1.368421\n",
       "17  1.578947  1.578947  1.578947\n",
       "18  1.789474  1.789474  1.789474\n",
       "19  2.000000  2.000000  2.000000"
      ]
     },
     "execution_count": 36,
     "metadata": {},
     "output_type": "execute_result"
    }
   ],
   "source": [
    "a = np.linspace(-2, 2, 20)\n",
    "data = pd.DataFrame({\"X\": a, \"Y\": a, \"Z\": a})\n",
    "data"
   ]
  },
  {
   "cell_type": "code",
   "execution_count": 38,
   "metadata": {},
   "outputs": [
    {
     "data": {
      "text/plain": [
       "<matplotlib.collections.PolyQuadMesh at 0x3493f590>"
      ]
     },
     "execution_count": 38,
     "metadata": {},
     "output_type": "execute_result"
    },
    {
     "data": {
      "image/png": "[encoded data removed]",
      "text/plain": [
       "<Figure size 640x480 with 1 Axes>"
      ]
     },
     "metadata": {},
     "output_type": "display_data"
    }
   ],
   "source": [
    "plt.pcolor(data)"
   ]
  },
  {
   "cell_type": "code",
   "execution_count": 28,
   "metadata": {},
   "outputs": [],
   "source": [
    "bounds = [[-2, 2], [-2, 2]]\n",
    "# параметры\n",
    "X = np.array([0.0, 1.0])\n",
    "Y = np.array([0.0, 1.0])\n",
    "# результаты\n",
    "Z = np.array([check(0.0, 0.0), check(1.0, 1.0)])"
   ]
  },
  {
   "cell_type": "code",
   "execution_count": 29,
   "metadata": {},
   "outputs": [
    {
     "name": "stdout",
     "output_type": "stream",
     "text": [
      "[0. 1.] [0. 1.] [0 0]\n"
     ]
    }
   ],
   "source": [
    "print(X, Y, Z)"
   ]
  },
  {
   "cell_type": "code",
   "execution_count": 30,
   "metadata": {},
   "outputs": [
    {
     "name": "stdout",
     "output_type": "stream",
     "text": [
      "newX1 = [-1.989046  1.      ]\n"
     ]
    }
   ],
   "source": [
    "newX1 = nextPoint(np.column_stack([X, Y]), Z, bounds=bounds, **samplerParams)\n",
    "print(\"newX1 =\", newX1)"
   ]
  },
  {
   "cell_type": "code",
   "execution_count": 33,
   "metadata": {},
   "outputs": [
    {
     "name": "stdout",
     "output_type": "stream",
     "text": [
      "[ 0.        1.       -1.989046 -1.989046] [ 0.        1.        1.       -1.989046]\n"
     ]
    },
    {
     "name": "stderr",
     "output_type": "stream",
     "text": [
      "c:\\Users\\Nik\\AppData\\Local\\Programs\\Python\\Python311\\Lib\\site-packages\\minlpe\\ML.py:120: UserWarning: Constant function. Gradient = 0. x.shape=(3, 2)\n",
      "  warnings.warn(f'Constant function. Gradient = 0. x.shape={self.train_x.shape}')\n",
      "c:\\Users\\Nik\\AppData\\Local\\Programs\\Python\\Python311\\Lib\\site-packages\\minlpe\\ML.py:120: UserWarning: Constant function. Gradient = 0. x.shape=(4, 2)\n",
      "  warnings.warn(f'Constant function. Gradient = 0. x.shape={self.train_x.shape}')\n"
     ]
    },
    {
     "ename": "ValueError",
     "evalue": "zero-size array to reduction operation minimum which has no identity",
     "output_type": "error",
     "traceback": [
      "\u001b[1;31m---------------------------------------------------------------------------\u001b[0m",
      "\u001b[1;31mValueError\u001b[0m                                Traceback (most recent call last)",
      "Cell \u001b[1;32mIn[33], line 2\u001b[0m\n\u001b[0;32m      1\u001b[0m \u001b[38;5;28mprint\u001b[39m(X,Y)\n\u001b[1;32m----> 2\u001b[0m point\u001b[38;5;241m=\u001b[39m \u001b[43mnextPoint\u001b[49m\u001b[43m(\u001b[49m\u001b[43mnp\u001b[49m\u001b[38;5;241;43m.\u001b[39;49m\u001b[43mcolumn_stack\u001b[49m\u001b[43m(\u001b[49m\u001b[43m[\u001b[49m\u001b[43mX\u001b[49m\u001b[43m,\u001b[49m\u001b[43mY\u001b[49m\u001b[43m]\u001b[49m\u001b[43m)\u001b[49m\u001b[43m,\u001b[49m\u001b[43m \u001b[49m\u001b[43mZ\u001b[49m\u001b[43m,\u001b[49m\u001b[43m \u001b[49m\u001b[43mbounds\u001b[49m\u001b[38;5;241;43m=\u001b[39;49m\u001b[43mbounds\u001b[49m\u001b[43m,\u001b[49m\u001b[43m \u001b[49m\u001b[38;5;241;43m*\u001b[39;49m\u001b[38;5;241;43m*\u001b[39;49m\u001b[43msamplerParams\u001b[49m\u001b[43m)\u001b[49m\n\u001b[0;32m      3\u001b[0m \u001b[38;5;28mprint\u001b[39m(X,Y)\n\u001b[0;32m      4\u001b[0m X\u001b[38;5;241m=\u001b[39mnp\u001b[38;5;241m.\u001b[39mappend(X,point[\u001b[38;5;241m0\u001b[39m])\n",
      "File \u001b[1;32mc:\\Users\\Nik\\AppData\\Local\\Programs\\Python\\Python311\\Lib\\site-packages\\minlpe\\adaptiveSampling.py:1077\u001b[0m, in \u001b[0;36mnextPoint\u001b[1;34m(X, Y, bounds, **samplerParams)\u001b[0m\n\u001b[0;32m   1075\u001b[0m generator \u001b[38;5;241m=\u001b[39m DatasetGenerator(sampler, orchestrator)\n\u001b[0;32m   1076\u001b[0m generator\u001b[38;5;241m.\u001b[39mgenerate()\n\u001b[1;32m-> 1077\u001b[0m \u001b[38;5;28;01mreturn\u001b[39;00m \u001b[43mgenerator\u001b[49m\u001b[38;5;241;43m.\u001b[39;49m\u001b[43mgetNewPoint\u001b[49m\u001b[43m(\u001b[49m\u001b[43m)\u001b[49m\n",
      "File \u001b[1;32mc:\\Users\\Nik\\AppData\\Local\\Programs\\Python\\Python311\\Lib\\site-packages\\minlpe\\adaptiveSampling.py:61\u001b[0m, in \u001b[0;36mDatasetGenerator.getNewPoint\u001b[1;34m(self)\u001b[0m\n\u001b[0;32m     56\u001b[0m \u001b[38;5;28;01mdef\u001b[39;00m \u001b[38;5;21mgetNewPoint\u001b[39m(\u001b[38;5;28mself\u001b[39m):\n\u001b[0;32m     57\u001b[0m \u001b[38;5;250m    \u001b[39m\u001b[38;5;124;03m\"\"\"\u001b[39;00m\n\u001b[0;32m     58\u001b[0m \n\u001b[0;32m     59\u001b[0m \u001b[38;5;124;03m    :return: point X\u001b[39;00m\n\u001b[0;32m     60\u001b[0m \u001b[38;5;124;03m    \"\"\"\u001b[39;00m\n\u001b[1;32m---> 61\u001b[0m     \u001b[38;5;28;01mreturn\u001b[39;00m \u001b[38;5;28;43mself\u001b[39;49m\u001b[38;5;241;43m.\u001b[39;49m\u001b[43msampler\u001b[49m\u001b[38;5;241;43m.\u001b[39;49m\u001b[43mgetNewPoint\u001b[49m\u001b[43m(\u001b[49m\u001b[43m(\u001b[49m\u001b[38;5;28;43mself\u001b[39;49m\u001b[38;5;241;43m.\u001b[39;49m\u001b[43mxs\u001b[49m\u001b[43m,\u001b[49m\u001b[43m \u001b[49m\u001b[38;5;28;43mself\u001b[39;49m\u001b[38;5;241;43m.\u001b[39;49m\u001b[43mys\u001b[49m\u001b[43m,\u001b[49m\u001b[43m \u001b[49m\u001b[38;5;28;43mself\u001b[39;49m\u001b[38;5;241;43m.\u001b[39;49m\u001b[43madditionalData\u001b[49m\u001b[43m)\u001b[49m\u001b[43m)\u001b[49m\n",
      "File \u001b[1;32mc:\\Users\\Nik\\AppData\\Local\\Programs\\Python\\Python311\\Lib\\site-packages\\minlpe\\adaptiveSampling.py:842\u001b[0m, in \u001b[0;36mErrorPredictingSampler.getNewPoint\u001b[1;34m(self, dataset)\u001b[0m\n\u001b[0;32m    841\u001b[0m \u001b[38;5;28;01mdef\u001b[39;00m \u001b[38;5;21mgetNewPoint\u001b[39m(\u001b[38;5;28mself\u001b[39m, dataset):\n\u001b[1;32m--> 842\u001b[0m     x \u001b[38;5;241m=\u001b[39m \u001b[38;5;28;43mself\u001b[39;49m\u001b[38;5;241;43m.\u001b[39;49m\u001b[43mgetNewPointHelper\u001b[49m\u001b[43m(\u001b[49m\u001b[38;5;28;43mself\u001b[39;49m\u001b[38;5;241;43m.\u001b[39;49m\u001b[43msamplingMethod\u001b[49m\u001b[43m)\u001b[49m\n\u001b[0;32m    843\u001b[0m     \u001b[38;5;28;01massert\u001b[39;00m \u001b[38;5;28mself\u001b[39m\u001b[38;5;241m.\u001b[39misInsideDomain(x), \u001b[38;5;124mf\u001b[39m\u001b[38;5;124m'\u001b[39m\u001b[38;5;132;01m{\u001b[39;00mx\u001b[38;5;132;01m}\u001b[39;00m\u001b[38;5;124m is not inside \u001b[39m\u001b[38;5;132;01m{\u001b[39;00m\u001b[38;5;28mself\u001b[39m\u001b[38;5;241m.\u001b[39mparamRanges\u001b[38;5;132;01m}\u001b[39;00m\u001b[38;5;124m'\u001b[39m\n\u001b[0;32m    844\u001b[0m     \u001b[38;5;28;01mreturn\u001b[39;00m x\n",
      "File \u001b[1;32mc:\\Users\\Nik\\AppData\\Local\\Programs\\Python\\Python311\\Lib\\site-packages\\minlpe\\adaptiveSampling.py:794\u001b[0m, in \u001b[0;36mErrorPredictingSampler.getNewPointHelper\u001b[1;34m(self, samplingMethod)\u001b[0m\n\u001b[0;32m    792\u001b[0m \u001b[38;5;28;01mif\u001b[39;00m \u001b[38;5;28mself\u001b[39m\u001b[38;5;241m.\u001b[39msettings[\u001b[38;5;124m'\u001b[39m\u001b[38;5;124mnormalizeGradientsGlobally\u001b[39m\u001b[38;5;124m'\u001b[39m] \u001b[38;5;129;01mand\u001b[39;00m \u001b[38;5;28mself\u001b[39m\u001b[38;5;241m.\u001b[39mscaleGrad \u001b[38;5;129;01mis\u001b[39;00m \u001b[38;5;28;01mNone\u001b[39;00m:\n\u001b[0;32m    793\u001b[0m     \u001b[38;5;28;01mif\u001b[39;00m \u001b[38;5;28mself\u001b[39m\u001b[38;5;241m.\u001b[39mcanCalculateScale():\n\u001b[1;32m--> 794\u001b[0m         \u001b[38;5;28;43mself\u001b[39;49m\u001b[38;5;241;43m.\u001b[39;49m\u001b[43mcalculateScale\u001b[49m\u001b[43m(\u001b[49m\u001b[43m)\u001b[49m\n\u001b[0;32m    795\u001b[0m     \u001b[38;5;28;01melse\u001b[39;00m:\n\u001b[0;32m    796\u001b[0m         newPoint \u001b[38;5;241m=\u001b[39m \u001b[38;5;28mself\u001b[39m\u001b[38;5;241m.\u001b[39mgetNewPointToCalculateScale()\n",
      "File \u001b[1;32mc:\\Users\\Nik\\AppData\\Local\\Programs\\Python\\Python311\\Lib\\site-packages\\minlpe\\adaptiveSampling.py:557\u001b[0m, in \u001b[0;36mErrorPredictingSampler.calculateScale\u001b[1;34m(self)\u001b[0m\n\u001b[0;32m    555\u001b[0m eps \u001b[38;5;241m=\u001b[39m \u001b[38;5;28mself\u001b[39m\u001b[38;5;241m.\u001b[39msettings[\u001b[38;5;124m'\u001b[39m\u001b[38;5;124mgradEps\u001b[39m\u001b[38;5;124m'\u001b[39m]\n\u001b[0;32m    556\u001b[0m \u001b[38;5;28;01mif\u001b[39;00m \u001b[38;5;28mlen\u001b[39m(grad[grad \u001b[38;5;241m<\u001b[39m\u001b[38;5;241m=\u001b[39m eps]) \u001b[38;5;241m>\u001b[39m \u001b[38;5;241m0\u001b[39m:\n\u001b[1;32m--> 557\u001b[0m     grad[grad \u001b[38;5;241m<\u001b[39m\u001b[38;5;241m=\u001b[39m eps] \u001b[38;5;241m=\u001b[39m \u001b[43mnp\u001b[49m\u001b[38;5;241;43m.\u001b[39;49m\u001b[43mmin\u001b[49m\u001b[43m(\u001b[49m\u001b[43mgrad\u001b[49m\u001b[43m[\u001b[49m\u001b[43mgrad\u001b[49m\u001b[43m \u001b[49m\u001b[38;5;241;43m>\u001b[39;49m\u001b[43m \u001b[49m\u001b[43meps\u001b[49m\u001b[43m]\u001b[49m\u001b[43m)\u001b[49m \u001b[38;5;241m*\u001b[39m \u001b[38;5;241m0.1\u001b[39m\n\u001b[0;32m    558\u001b[0m \u001b[38;5;28mself\u001b[39m\u001b[38;5;241m.\u001b[39mscaleGrad \u001b[38;5;241m=\u001b[39m grad\n\u001b[0;32m    559\u001b[0m \u001b[38;5;28mself\u001b[39m\u001b[38;5;241m.\u001b[39mscaleForDist \u001b[38;5;241m=\u001b[39m np\u001b[38;5;241m.\u001b[39mlinalg\u001b[38;5;241m.\u001b[39mnorm(grad\u001b[38;5;241m*\u001b[39m(\u001b[38;5;28mself\u001b[39m\u001b[38;5;241m.\u001b[39mparamRanges[:,\u001b[38;5;241m1\u001b[39m]\u001b[38;5;241m-\u001b[39m\u001b[38;5;28mself\u001b[39m\u001b[38;5;241m.\u001b[39mparamRanges[:,\u001b[38;5;241m0\u001b[39m])\u001b[38;5;241m.\u001b[39mreshape(\u001b[38;5;241m-\u001b[39m\u001b[38;5;241m1\u001b[39m))\n",
      "File \u001b[1;32mc:\\Users\\Nik\\AppData\\Local\\Programs\\Python\\Python311\\Lib\\site-packages\\numpy\\core\\fromnumeric.py:2953\u001b[0m, in \u001b[0;36mmin\u001b[1;34m(a, axis, out, keepdims, initial, where)\u001b[0m\n\u001b[0;32m   2836\u001b[0m \u001b[38;5;129m@array_function_dispatch\u001b[39m(_min_dispatcher)\n\u001b[0;32m   2837\u001b[0m \u001b[38;5;28;01mdef\u001b[39;00m \u001b[38;5;21mmin\u001b[39m(a, axis\u001b[38;5;241m=\u001b[39m\u001b[38;5;28;01mNone\u001b[39;00m, out\u001b[38;5;241m=\u001b[39m\u001b[38;5;28;01mNone\u001b[39;00m, keepdims\u001b[38;5;241m=\u001b[39mnp\u001b[38;5;241m.\u001b[39m_NoValue, initial\u001b[38;5;241m=\u001b[39mnp\u001b[38;5;241m.\u001b[39m_NoValue,\n\u001b[0;32m   2838\u001b[0m         where\u001b[38;5;241m=\u001b[39mnp\u001b[38;5;241m.\u001b[39m_NoValue):\n\u001b[0;32m   2839\u001b[0m \u001b[38;5;250m    \u001b[39m\u001b[38;5;124;03m\"\"\"\u001b[39;00m\n\u001b[0;32m   2840\u001b[0m \u001b[38;5;124;03m    Return the minimum of an array or minimum along an axis.\u001b[39;00m\n\u001b[0;32m   2841\u001b[0m \n\u001b[1;32m   (...)\u001b[0m\n\u001b[0;32m   2951\u001b[0m \u001b[38;5;124;03m    6\u001b[39;00m\n\u001b[0;32m   2952\u001b[0m \u001b[38;5;124;03m    \"\"\"\u001b[39;00m\n\u001b[1;32m-> 2953\u001b[0m     \u001b[38;5;28;01mreturn\u001b[39;00m \u001b[43m_wrapreduction\u001b[49m\u001b[43m(\u001b[49m\u001b[43ma\u001b[49m\u001b[43m,\u001b[49m\u001b[43m \u001b[49m\u001b[43mnp\u001b[49m\u001b[38;5;241;43m.\u001b[39;49m\u001b[43mminimum\u001b[49m\u001b[43m,\u001b[49m\u001b[43m \u001b[49m\u001b[38;5;124;43m'\u001b[39;49m\u001b[38;5;124;43mmin\u001b[39;49m\u001b[38;5;124;43m'\u001b[39;49m\u001b[43m,\u001b[49m\u001b[43m \u001b[49m\u001b[43maxis\u001b[49m\u001b[43m,\u001b[49m\u001b[43m \u001b[49m\u001b[38;5;28;43;01mNone\u001b[39;49;00m\u001b[43m,\u001b[49m\u001b[43m \u001b[49m\u001b[43mout\u001b[49m\u001b[43m,\u001b[49m\n\u001b[0;32m   2954\u001b[0m \u001b[43m                          \u001b[49m\u001b[43mkeepdims\u001b[49m\u001b[38;5;241;43m=\u001b[39;49m\u001b[43mkeepdims\u001b[49m\u001b[43m,\u001b[49m\u001b[43m \u001b[49m\u001b[43minitial\u001b[49m\u001b[38;5;241;43m=\u001b[39;49m\u001b[43minitial\u001b[49m\u001b[43m,\u001b[49m\u001b[43m \u001b[49m\u001b[43mwhere\u001b[49m\u001b[38;5;241;43m=\u001b[39;49m\u001b[43mwhere\u001b[49m\u001b[43m)\u001b[49m\n",
      "File \u001b[1;32mc:\\Users\\Nik\\AppData\\Local\\Programs\\Python\\Python311\\Lib\\site-packages\\numpy\\core\\fromnumeric.py:88\u001b[0m, in \u001b[0;36m_wrapreduction\u001b[1;34m(obj, ufunc, method, axis, dtype, out, **kwargs)\u001b[0m\n\u001b[0;32m     85\u001b[0m         \u001b[38;5;28;01melse\u001b[39;00m:\n\u001b[0;32m     86\u001b[0m             \u001b[38;5;28;01mreturn\u001b[39;00m reduction(axis\u001b[38;5;241m=\u001b[39maxis, out\u001b[38;5;241m=\u001b[39mout, \u001b[38;5;241m*\u001b[39m\u001b[38;5;241m*\u001b[39mpasskwargs)\n\u001b[1;32m---> 88\u001b[0m \u001b[38;5;28;01mreturn\u001b[39;00m \u001b[43mufunc\u001b[49m\u001b[38;5;241;43m.\u001b[39;49m\u001b[43mreduce\u001b[49m\u001b[43m(\u001b[49m\u001b[43mobj\u001b[49m\u001b[43m,\u001b[49m\u001b[43m \u001b[49m\u001b[43maxis\u001b[49m\u001b[43m,\u001b[49m\u001b[43m \u001b[49m\u001b[43mdtype\u001b[49m\u001b[43m,\u001b[49m\u001b[43m \u001b[49m\u001b[43mout\u001b[49m\u001b[43m,\u001b[49m\u001b[43m \u001b[49m\u001b[38;5;241;43m*\u001b[39;49m\u001b[38;5;241;43m*\u001b[39;49m\u001b[43mpasskwargs\u001b[49m\u001b[43m)\u001b[49m\n",
      "\u001b[1;31mValueError\u001b[0m: zero-size array to reduction operation minimum which has no identity"
     ]
    }
   ],
   "source": [
    "print(X, Y)\n",
    "point = nextPoint(np.column_stack([X, Y]), Z, bounds=bounds, **samplerParams)\n",
    "print(X, Y)\n",
    "X = np.append(X, point[0])\n",
    "Y = np.append(Y, point[1])\n",
    "print(check(point[0], point[1]))\n",
    "Z = np.append(Z, check(point[0], point[1]))\n",
    "data = pd.DataFrame([X, Y, Z])\n",
    "plt.pcolor(data)"
   ]
  },
  {
   "cell_type": "code",
   "execution_count": 8,
   "metadata": {},
   "outputs": [],
   "source": [
    "def check(x, y):\n",
    "    try:\n",
    "        if y >= np.sqrt(1 - x**2) and y <= np.sqrt(1.5 - x**2):\n",
    "            return 1\n",
    "        if y <= -np.sqrt(1 - x**2) and y >= -np.sqrt(1.5 - x**2):\n",
    "            return 1\n",
    "    except:\n",
    "        return 0\n",
    "    return 0"
   ]
  },
  {
   "cell_type": "code",
   "execution_count": null,
   "metadata": {},
   "outputs": [],
   "source": [
    "masX = np.linspace(-2, 2, 500)\n",
    "masY = np.linspace(-2, 2, 500)\n",
    "X, Y = np.meshgrid(masX, masY)\n",
    "print(len(X))\n",
    "Z = [[]]\n",
    "for row in range(len(X)):\n",
    "    Z.append([])\n",
    "    for point in range(len(X[row])):\n",
    "        Z[row].append(check(X[row][point], Y[row][point]))\n",
    "del Z[len(Z) - 1]\n",
    "Z = np.array(Z, dtype=int)"
   ]
  },
  {
   "cell_type": "code",
   "execution_count": 164,
   "metadata": {},
   "outputs": [
    {
     "name": "stdout",
     "output_type": "stream",
     "text": [
      "[-1.989046 -1.989046]\n",
      "[[0, 1, 0, 0], [1, 0, 0, 0], [1, 0, 0, 0], [0, 0, 0, 0]]\n"
     ]
    },
    {
     "name": "stderr",
     "output_type": "stream",
     "text": [
      "c:\\Users\\Nik\\AppData\\Local\\Programs\\Python\\Python311\\Lib\\site-packages\\minlpe\\ML.py:120: UserWarning: Constant function. Gradient = 0. x.shape=(3, 2)\n",
      "  warnings.warn(f'Constant function. Gradient = 0. x.shape={self.train_x.shape}')\n",
      "C:\\Users\\Nik\\AppData\\Local\\Temp\\ipykernel_2696\\2364936850.py:3: RuntimeWarning: invalid value encountered in sqrt\n",
      "  if y>=np.sqrt(1-x**2) and y<=np.sqrt(1.5-x**2): return 1\n",
      "C:\\Users\\Nik\\AppData\\Local\\Temp\\ipykernel_2696\\2364936850.py:4: RuntimeWarning: invalid value encountered in sqrt\n",
      "  if y<=-np.sqrt(1-x**2) and y>=-np.sqrt(1.5-x**2): return 1\n",
      "C:\\Users\\Nik\\AppData\\Local\\Temp\\ipykernel_2696\\2311034697.py:14: UserWarning: The input coordinates to pcolor are interpreted as cell centers, but are not monotonically increasing or decreasing. This may lead to incorrectly calculated cell edges, in which case, please supply explicit cell edges to pcolor.\n",
      "  plt.pcolor(dX,dY,dZ)\n"
     ]
    },
    {
     "data": {
      "text/plain": [
       "<matplotlib.collections.PolyQuadMesh at 0x3540bb90>"
      ]
     },
     "execution_count": 164,
     "metadata": {},
     "output_type": "execute_result"
    },
    {
     "data": {
      "image/png": "[encoded data removed]",
      "text/plain": [
       "<Figure size 640x480 with 1 Axes>"
      ]
     },
     "metadata": {},
     "output_type": "display_data"
    }
   ],
   "source": [
    "point = nextPoint(np.column_stack([X, Y]), Z, bounds=bounds, **samplerParams)\n",
    "print(point)\n",
    "X = np.append(X, point[0])\n",
    "Y = np.append(Y, point[1])\n",
    "Z = np.append(Z, check(point[0], point[1]))\n",
    "dX, dY = np.meshgrid(X, Y)\n",
    "dZ = [[]]\n",
    "for row in range(len(dX)):\n",
    "    dZ.append([])\n",
    "    for point in range(len(dX[row])):\n",
    "        dZ[row].append(check(dX[row][point], dY[row][point]))\n",
    "del dZ[len(dZ) - 1]\n",
    "print(dZ)\n",
    "plt.pcolor(dX, dY, dZ)"
   ]
  },
  {
   "cell_type": "code",
   "execution_count": null,
   "metadata": {},
   "outputs": [],
   "source": [
    "masX = np.linspace(-2, 2, 100)\n",
    "masY = np.linspace(-2, 2, 100)\n",
    "\n",
    "for dx in masX:\n",
    "    for dy in masY:\n",
    "        if check(dx, dy):\n",
    "            color = \"red\"\n",
    "        else:\n",
    "            color = \"blue\"\n",
    "        plt.scatter(dx, dy, c=color)"
   ]
  }
 ],
 "metadata": {
  "kernelspec": {
   "display_name": "Python 3",
   "language": "python",
   "name": "python3"
  },
  "language_info": {
   "codemirror_mode": {
    "name": "ipython",
    "version": 3
   },
   "file_extension": ".py",
   "mimetype": "text/x-python",
   "name": "python",
   "nbconvert_exporter": "python",
   "pygments_lexer": "ipython3",
   "version": "3.11.0"
  }
 },
 "nbformat": 4,
 "nbformat_minor": 2
}
