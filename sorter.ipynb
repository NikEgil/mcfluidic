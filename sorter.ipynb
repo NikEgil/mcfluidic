{
 "cells": [
  {
   "cell_type": "markdown",
   "metadata": {},
   "source": [
    "импорты и константы"
   ]
  },
  {
   "cell_type": "code",
   "execution_count": 1,
   "metadata": {},
   "outputs": [],
   "source": [
    "import os\n",
    "import numpy as np\n",
    "from natsort import natsorted\n",
    "import matplotlib.pyplot as plt\n",
    "import re\n",
    "import shutil\n",
    "import time\n",
    "\n",
    "# 153.8336486816406250 884.2712384333286764    измеряемый диапазон. 0-2136 диапазон данных\n",
    "start = 400  # нм\n",
    "end = 700  # нм\n",
    "step = (884.2712384333286764 - 153.8336486816406250) / 2136\n",
    "\n",
    "# номера точек в массиве по координате х\n",
    "start_point = round((start - 153.8336486816406250) / step)\n",
    "end_point = start_point + int((end - start) / step)\n",
    "_start = start_point + 11\n",
    "_end = start_point + round((end_point - start_point) / 2)"
   ]
  },
  {
   "cell_type": "markdown",
   "metadata": {},
   "source": [
    "функции получения данных"
   ]
  },
  {
   "cell_type": "code",
   "execution_count": 2,
   "metadata": {},
   "outputs": [],
   "source": [
    "def get_max_rmr(path, fl):\n",
    "    _dm = np.zeros(len(fl))\n",
    "\n",
    "    for i in range(len(fl)):\n",
    "        with open(path + fl[i], \"r\", encoding=\"utf8\") as spec:\n",
    "            _dm[i] = max(re.split(\",\", spec.read())[_start:_end])\n",
    "    return _dm"
   ]
  },
  {
   "cell_type": "markdown",
   "metadata": {},
   "source": [
    "получение максимумов из спектров"
   ]
  },
  {
   "cell_type": "code",
   "execution_count": 9,
   "metadata": {},
   "outputs": [
    {
     "name": "stdout",
     "output_type": "stream",
     "text": [
      "C:/Users/Nik/Desktop/скрининг/4-25С/\n",
      "получено  5000\n",
      "получено  10000\n",
      "получено  15000\n",
      "получено  20000\n",
      "получено  25000\n",
      "получено  30000\n",
      "получено  35000\n",
      "получено  40000\n",
      "получено  45000\n",
      "получено  50000\n",
      "получено  55000\n",
      "получено  60000\n",
      "получено  65000\n",
      "получено  70000\n",
      "получено  75000\n",
      "получено  80000\n",
      "получено  85000\n",
      "получено  90000\n",
      "получено  95000\n",
      "получено  100000\n",
      "получено  104825\n",
      "получено 104826 максимумов спектров\n"
     ]
    }
   ],
   "source": [
    "data_max = np.zeros(1)  # изанчальные графики\n",
    "main_folder = r\"C:\\Users\\Nik\\Desktop\\скрининг\\3-25С\"\n",
    "main_folder = main_folder.replace(chr(92), \"/\")\n",
    "main_folder += \"/\"\n",
    "print(main_folder)\n",
    "file_list = np.array(natsorted(os.listdir(main_folder)))\n",
    "for i in range(0, len(file_list), 5000):\n",
    "    _b = i + 5000\n",
    "    if _b > len(file_list):\n",
    "        _b = len(file_list)\n",
    "    data_max = np.append(data_max, get_max_rmr(main_folder, file_list[i:_b]), axis=0)\n",
    "    print(\"получено \", _b)\n",
    "print(\"получено \" + str(len(data_max)) + \" максимумов спектров\")"
   ]
  },
  {
   "cell_type": "markdown",
   "metadata": {},
   "source": [
    "максимумы на таймлайнах"
   ]
  },
  {
   "cell_type": "code",
   "execution_count": 10,
   "metadata": {},
   "outputs": [],
   "source": [
    "_step = 400\n",
    "_sp = 0\n",
    "_ep = _step\n",
    "\n",
    "# создание папки для сохранения картинок\n",
    "dist_folder = r\"C:\\Users\\Nik\\Desktop\\скрининг\\timelines\"\n",
    "dist_folder = dist_folder.replace(chr(92), \"/\")\n",
    "dist_folder += \"/\"\n",
    "folder_name = \"4\"\n",
    "if not os.path.exists(os.path.join(dist_folder, folder_name)):\n",
    "    os.makedirs(os.path.join(dist_folder, folder_name))\n",
    "\n",
    "# расчет гистограммы\n",
    "num_bins = 10  # количество интервалов\n",
    "range_values = (np.max(data_max) - np.min(data_max)) / num_bins\n",
    "# границы интервалов\n",
    "bin_edges = np.arange(np.min(data_max), np.max(data_max) + range_values, range_values)\n",
    "# середины интервалов\n",
    "bins = bin_edges[:-1] + range_values / 2\n",
    "\n",
    "hist, _ = np.histogram(data_max, bins=bin_edges)\n",
    "\n",
    "zero = bin_edges[np.argmax(hist) + 1]\n",
    "fig, ax = plt.subplots(figsize=(10, 6), dpi=120)\n",
    "fig.suptitle(\"гистограмма\")\n",
    "ax.hist(data_max, bin_edges, alpha=0.6, color=\"blue\", edgecolor=\"k\", linewidth=1)\n",
    "ax.plot(bins, hist, color=\"red\", lw=2)\n",
    "plt.xticks(rotation=90)\n",
    "ax.set_xticks(bin_edges)\n",
    "plt.savefig(dist_folder + \"/\" + folder_name + \"/\" + \"гистограмма.png\")\n",
    "\n",
    "m = np.min(data_max) * 0.8\n",
    "m2 = np.max(data_max) * 1.1\n",
    "\n",
    "for i in range(round(len(data_max) / (3 * _step))):\n",
    "    fig, axs = plt.subplots(3, 1, figsize=(10, 6), dpi=120)\n",
    "    plt.ioff()\n",
    "    _s = _sp\n",
    "    for j in range(3):\n",
    "        if _ep > len(data_max):\n",
    "            _ep = len(data_max)\n",
    "        axs[j].plot(np.arange(_sp, _ep, 1), data_max[_sp:_ep], lw=1, color=\"blue\")\n",
    "        axs[j].scatter(np.arange(_sp, _ep, 1), data_max[_sp:_ep], s=4, color=\"black\")\n",
    "        axs[j].plot((_sp, _ep), (zero, zero), color=\"orange\")\n",
    "        axs[j].set_ylim(m, m2)\n",
    "        _sp += _step\n",
    "        _ep += _step\n",
    "\n",
    "    _e = _ep - _step\n",
    "    fig.suptitle(\"спектры \" + str(_s) + \"-\" + str(_e))\n",
    "    plt.savefig(\n",
    "        dist_folder\n",
    "        + \"/\"\n",
    "        + folder_name\n",
    "        + \"/\"\n",
    "        + \"ряд максимумов \"\n",
    "        + str(_s)\n",
    "        + \"-\"\n",
    "        + str(_e)\n",
    "        + \".png\"\n",
    "    )"
   ]
  },
  {
   "cell_type": "code",
   "execution_count": 12,
   "metadata": {},
   "outputs": [
    {
     "name": "stdout",
     "output_type": "stream",
     "text": [
      "45\n",
      "[(150, 400), (550, 900), (1000, 1350), (1450, 1800), (1950, 2250), (2400, 2750), (2850, 3200), (3300, 3650), (3800, 4100), (4250, 4600), (4700, 5050), (5150, 5500), (5650, 5950), (6100, 6450), (6550, 6900), (7000, 7350), (7500, 7850), (7950, 8300), (8400, 8750), (8900, 9200), (9350, 9700), (9800, 10150), (10250, 10600), (10750, 11100), (11200, 11550), (11650, 12000), (12150, 12450), (12600, 12950), (13050, 13400), (13500, 13850), (14000, 14350), (14450, 14800), (14900, 15250), (15400, 15700), (15850, 16150), (16300, 16650), (16750, 17100), (17250, 17550), (17700, 18050), (18150, 18500), (18600, 18950), (19100, 19400), (19550, 19900), (20000, 20350), (20500, 20800)]\n"
     ]
    }
   ],
   "source": [
    "point_index = []\n",
    "_point = False\n",
    "k = []\n",
    "for i in range(0, len(data_max), 50):\n",
    "    ar = np.mean(data_max[i : i + 50])\n",
    "    if ar > zero:\n",
    "        k.append(i)\n",
    "        _point = True\n",
    "    if ar < zero and _point == True:\n",
    "        point_index.append((k[0], i))\n",
    "        k = []\n",
    "        _point = False\n",
    "    if _point == True and i >= len(data_max) - 20:\n",
    "        point_index.append((k[0], len(data_max) - 1))\n",
    "print(len(point_index))\n",
    "print(point_index)"
   ]
  },
  {
   "cell_type": "code",
   "execution_count": 14,
   "metadata": {},
   "outputs": [
    {
     "name": "stdout",
     "output_type": "stream",
     "text": [
      "(150, 400)     250\n",
      "(550, 900)     350\n",
      "(1000, 1350)     350\n",
      "(1450, 1800)     350\n",
      "(1950, 2250)     300\n",
      "(2400, 2750)     350\n",
      "(2850, 3200)     350\n",
      "(3300, 3650)     350\n",
      "(3800, 4100)     300\n",
      "(4250, 4600)     350\n",
      "(4700, 5050)     350\n",
      "(5150, 5500)     350\n",
      "(5650, 5950)     300\n",
      "(6100, 6450)     350\n",
      "(6550, 6900)     350\n",
      "(7000, 7350)     350\n",
      "(7500, 7850)     350\n",
      "(7950, 8300)     350\n",
      "(8400, 8750)     350\n",
      "(8900, 9200)     300\n",
      "(9350, 9700)     350\n",
      "(9800, 10150)     350\n",
      "(10250, 10600)     350\n",
      "(10750, 11100)     350\n",
      "(11200, 11550)     350\n",
      "(11650, 12000)     350\n",
      "(12150, 12450)     300\n",
      "(12600, 12950)     350\n",
      "(13050, 13400)     350\n",
      "(13500, 13850)     350\n",
      "(14000, 14350)     350\n",
      "(14450, 14800)     350\n",
      "(14900, 15250)     350\n",
      "(15400, 15700)     300\n",
      "(15850, 16150)     300\n",
      "(16300, 16650)     350\n",
      "(16750, 17100)     350\n",
      "(17250, 17550)     300\n",
      "(17700, 18050)     350\n",
      "(18150, 18500)     350\n",
      "(18600, 18950)     350\n",
      "(19100, 19400)     300\n",
      "(19550, 19900)     350\n",
      "(20000, 20350)     350\n",
      "(20500, 20800)     300\n"
     ]
    }
   ],
   "source": [
    "for i in range(len(point_index)):\n",
    "    print(point_index[i], \"   \", point_index[i][1] - point_index[i][0])"
   ]
  },
  {
   "cell_type": "code",
   "execution_count": 7,
   "metadata": {},
   "outputs": [],
   "source": [
    "point_index= [\n",
    "    [3900, 5500],\n",
    "    [8400, 10145],\n",
    "    [12850, 14650],\n",
    "    [17300, 19070],\n",
    "    [21800, 23100],\n",
    "    [29760, 31210],\n",
    "    [34000, 35240],\n",
    "    [37850, 39400],\n",
    "    [42200, 43450],\n",
    "    [46010, 47550],\n",
    "    [54250, 55800],\n",
    "    [58400, 59810],\n",
    "    [62650, 64300],\n",
    "    [66950, 68600],\n",
    "    [71500, 73100],\n",
    "    [80175, 81950],\n",
    "    [84230, 85700],\n",
    "    [87900, 89540],\n",
    "    [92135,93900],\n",
    "    [96400,98200],\n",
    "]"
   ]
  },
  {
   "cell_type": "code",
   "execution_count": 8,
   "metadata": {},
   "outputs": [],
   "source": [
    "dist_folder = r\"C:\\Users\\Nik\\Desktop\\скрининг\\points\"\n",
    "dist_folder = dist_folder.replace(chr(92), \"/\")\n",
    "dist_folder += \"/\"\n",
    "\n",
    "folder_name = \"p4\"\n",
    "d_name = \"4_\"\n",
    "\n",
    "\n",
    "if os.path.exists(os.path.join(dist_folder, folder_name)):\n",
    "\n",
    "    shutil.rmtree(dist_folder + \"/\" + folder_name)\n",
    "\n",
    "\n",
    "os.makedirs(os.path.join(dist_folder, folder_name))\n",
    "\n",
    "\n",
    "for i in range(len(point_index)):\n",
    "\n",
    "    os.makedirs(os.path.join(dist_folder + \"/\" + folder_name, d_name + str(i + 1)))"
   ]
  },
  {
   "cell_type": "code",
   "execution_count": 9,
   "metadata": {},
   "outputs": [
    {
     "name": "stdout",
     "output_type": "stream",
     "text": [
      "C:/Users/Nik/Desktop/скрининг/points/\n",
      "4_ 1   1600\n",
      "4_ 2   1745\n",
      "4_ 3   1800\n",
      "4_ 4   1770\n",
      "4_ 5   1300\n",
      "4_ 6   1450\n",
      "4_ 7   1240\n",
      "4_ 8   1550\n",
      "4_ 9   1250\n",
      "4_ 10   1540\n",
      "4_ 11   1550\n",
      "4_ 12   1410\n",
      "4_ 13   1650\n",
      "4_ 14   1650\n",
      "4_ 15   1600\n",
      "4_ 16   1775\n",
      "4_ 17   1470\n",
      "4_ 18   1640\n",
      "4_ 19   1765\n",
      "4_ 20   1800\n"
     ]
    }
   ],
   "source": [
    "main_folder = r\"C:\\Users\\Nik\\Desktop\\скрининг\\4-25С\"\n",
    "main_folder = main_folder.replace(chr(92), \"/\")\n",
    "main_folder += \"/\"\n",
    "file_list = np.array(natsorted(os.listdir(main_folder)))\n",
    "print(dist_folder)\n",
    "\n",
    "\n",
    "for i in range(len(point_index)):\n",
    "\n",
    "    dist = dist_folder + \"/\" + folder_name + \"/\" + d_name + str(i + 1)\n",
    "\n",
    "    for j in range(point_index[i][0], point_index[i][1]):\n",
    "\n",
    "        shutil.copy2(main_folder + str(file_list[j]), dist)\n",
    "\n",
    "    print(d_name, i + 1, \" \", point_index[i][1] - point_index[i][0])"
   ]
  }
 ],
 "metadata": {
  "kernelspec": {
   "display_name": "Python 3",
   "language": "python",
   "name": "python3"
  },
  "language_info": {
   "codemirror_mode": {
    "name": "ipython",
    "version": 3
   },
   "file_extension": ".py",
   "mimetype": "text/x-python",
   "name": "python",
   "nbconvert_exporter": "python",
   "pygments_lexer": "ipython3",
   "version": "3.11.5"
  }
 },
 "nbformat": 4,
 "nbformat_minor": 2
}
