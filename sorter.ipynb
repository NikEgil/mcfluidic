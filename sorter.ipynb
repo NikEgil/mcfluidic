{
 "cells": [
  {
   "cell_type": "markdown",
   "metadata": {},
   "source": [
    "импорты и константы"
   ]
  },
  {
   "cell_type": "code",
   "execution_count": 1,
   "metadata": {},
   "outputs": [],
   "source": [
    "import os\n",
    "import numpy as np\n",
    "from natsort import natsorted\n",
    "import matplotlib.pyplot as plt\n",
    "import re\n",
    "import shutil\n",
    "import time\n",
    "\n",
    "# 153.8336486816406250 884.2712384333286764    измеряемый диапазон. 0-2136 диапазон данных\n",
    "start = 400  # нм\n",
    "end = 700  # нм\n",
    "step = (884.2712384333286764 - 153.8336486816406250) / 2136\n",
    "\n",
    "# номера точек в массиве по координате х\n",
    "start_point = round((start - 153.8336486816406250) / step)\n",
    "end_point = start_point + int((end - start) / step)\n",
    "_start = start_point + 11\n",
    "_end = start_point + round((end_point - start_point) / 2)"
   ]
  },
  {
   "cell_type": "markdown",
   "metadata": {},
   "source": [
    "функции получения данных"
   ]
  },
  {
   "cell_type": "code",
   "execution_count": 2,
   "metadata": {},
   "outputs": [],
   "source": [
    "def get_max_rmr(path, fl):\n",
    "    _dm = np.zeros(len(fl))\n",
    "\n",
    "    for i in range(len(fl)):\n",
    "        with open(path + fl[i], \"r\", encoding=\"utf8\") as spec:\n",
    "            _dm[i] = max(re.split(\",\", spec.read())[_start:_end])\n",
    "    return _dm"
   ]
  },
  {
   "cell_type": "markdown",
   "metadata": {},
   "source": [
    "получение максимумов из спектров"
   ]
  },
  {
   "cell_type": "code",
   "execution_count": 22,
   "metadata": {},
   "outputs": [
    {
     "name": "stdout",
     "output_type": "stream",
     "text": [
      "C:/Users/Nik/Desktop/tes/c2/\n",
      "получено  5000\n",
      "получено  10000\n",
      "получено  15000\n",
      "получено  20000\n",
      "получено  25000\n",
      "получено  30000\n",
      "получено  35000\n",
      "получено  40000\n",
      "получено  45000\n",
      "получено  50000\n",
      "получено  55000\n",
      "получено  60000\n",
      "получено  65000\n",
      "получено  70000\n",
      "получено  75000\n",
      "получено  80000\n",
      "получено  85000\n",
      "получено  90000\n",
      "получено  95000\n",
      "получено  100000\n",
      "получено  105000\n",
      "получено  106111\n",
      "получено 106112 максимумов спектров\n"
     ]
    }
   ],
   "source": [
    "data_max = np.zeros(1)  # изанчальные графики\n",
    "main_folder = r\"C:\\Users\\Nik\\Desktop\\tes\\c2\"\n",
    "main_folder = main_folder.replace(chr(92), \"/\")\n",
    "main_folder += \"/\"\n",
    "print(main_folder)\n",
    "file_list = np.array(natsorted(os.listdir(main_folder)))\n",
    "for i in range(0, len(file_list), 5000):\n",
    "    _b = i + 5000\n",
    "    if _b > len(file_list):\n",
    "        _b = len(file_list)\n",
    "    data_max = np.append(data_max, get_max_rmr(main_folder, file_list[i:_b]), axis=0)\n",
    "    print(\"получено \", _b)\n",
    "print(\"получено \" + str(len(data_max)) + \" максимумов спектров\")"
   ]
  },
  {
   "cell_type": "markdown",
   "metadata": {},
   "source": [
    "максимумы на таймлайнах"
   ]
  },
  {
   "cell_type": "code",
   "execution_count": 23,
   "metadata": {},
   "outputs": [],
   "source": [
    "_step = 400\n",
    "_sp = 0\n",
    "_ep = _step\n",
    "\n",
    "# создание папки для сохранения картинок\n",
    "dist_folder = r\"C:\\Users\\Nik\\Desktop\\prog\\1\"\n",
    "dist_folder = dist_folder.replace(chr(92), \"/\")\n",
    "dist_folder += \"/\"\n",
    "folder_name = \"c2\"\n",
    "if not os.path.exists(os.path.join(dist_folder, folder_name)):\n",
    "    os.makedirs(os.path.join(dist_folder, folder_name))\n",
    "\n",
    "# расчет гистограммы\n",
    "num_bins = 10  # количество интервалов\n",
    "range_values = (np.max(data_max) - np.min(data_max)) / num_bins\n",
    "# границы интервалов\n",
    "bin_edges = np.arange(np.min(data_max), np.max(data_max) + range_values, range_values)\n",
    "# середины интервалов\n",
    "bins = bin_edges[:-1] + range_values / 2\n",
    "\n",
    "hist, _ = np.histogram(data_max, bins=bin_edges)\n",
    "\n",
    "zero = bin_edges[np.argmax(hist) + 1]\n",
    "fig, ax = plt.subplots(figsize=(10, 6), dpi=120)\n",
    "fig.suptitle(\"гистограмма\")\n",
    "ax.hist(data_max, bin_edges, alpha=0.6, color=\"blue\", edgecolor=\"k\", linewidth=1)\n",
    "ax.plot(bins, hist, color=\"red\", lw=2)\n",
    "plt.xticks(rotation=90)\n",
    "ax.set_xticks(bin_edges)\n",
    "plt.savefig(dist_folder + \"/\" + folder_name + \"/\" + \"гистограмма.png\")\n",
    "\n",
    "m = np.min(data_max) * 0.8\n",
    "m2 = np.max(data_max) * 0.5\n",
    "\n",
    "for i in range(round(len(data_max) / (3 * _step))):\n",
    "    fig, axs = plt.subplots(3, 1, figsize=(10, 6), dpi=120)\n",
    "    plt.ioff()\n",
    "    _s = _sp\n",
    "    for j in range(3):\n",
    "        if _ep > len(data_max):\n",
    "            _ep = len(data_max)\n",
    "        axs[j].plot(np.arange(_sp, _ep, 1), data_max[_sp:_ep], lw=1, color=\"blue\")\n",
    "        axs[j].scatter(np.arange(_sp, _ep, 1), data_max[_sp:_ep], s=4, color=\"black\")\n",
    "        axs[j].plot((_sp, _ep), (zero, zero), color=\"orange\")\n",
    "        axs[j].set_ylim(0, np.max(data_max[_sp:_ep]) * 1.1)\n",
    "        _sp += _step\n",
    "        _ep += _step\n",
    "\n",
    "    _e = _ep - _step\n",
    "    fig.suptitle(\"спектры \" + str(_s) + \"-\" + str(_e))\n",
    "    plt.savefig(\n",
    "        dist_folder\n",
    "        + \"/\"\n",
    "        + folder_name\n",
    "        + \"/\"\n",
    "        + \"ряд максимумов \"\n",
    "        + str(_s)\n",
    "        + \"-\"\n",
    "        + str(_e)\n",
    "        + \".png\"\n",
    "    )"
   ]
  },
  {
   "cell_type": "code",
   "execution_count": 19,
   "metadata": {},
   "outputs": [
    {
     "name": "stdout",
     "output_type": "stream",
     "text": [
      "14\n",
      "[(10, 160), (430, 700), (710, 940), (970, 1120), (1150, 1180), (1190, 1300), (1310, 1340), (1350, 1450), (1460, 1680), (1700, 1870), (1920, 2050), (2060, 2210), (2690, 3890), (3920, 3928)]\n"
     ]
    }
   ],
   "source": [
    "point_index = []\n",
    "_point = False\n",
    "k = []\n",
    "zero = 0.05\n",
    "s = 10\n",
    "for i in range(0, len(data_max), s):\n",
    "    ar = np.mean(data_max[i : i + s])\n",
    "    if ar > zero:\n",
    "        k.append(i)\n",
    "        _point = True\n",
    "    if ar < zero and _point == True:\n",
    "        point_index.append((k[0], i))\n",
    "        k = []\n",
    "        _point = False\n",
    "    if _point == True and i >= len(data_max) - s:\n",
    "        point_index.append((k[0], len(data_max) - 1))\n",
    "print(len(point_index))\n",
    "print(point_index)"
   ]
  },
  {
   "cell_type": "code",
   "execution_count": 36,
   "metadata": {},
   "outputs": [
    {
     "name": "stdout",
     "output_type": "stream",
     "text": [
      "[5750, 6875]     1125\n",
      "[9600, 11250]     1650\n",
      "[14125, 15810]     1685\n",
      "[18425, 20200]     1775\n",
      "[22900, 24680]     1780\n",
      "[32140, 33400]     1260\n",
      "[36480, 38000]     1520\n",
      "[40950, 42575]     1625\n",
      "[45400, 46820]     1420\n",
      "[49840, 51550]     1710\n",
      "[58850, 60500]     1650\n",
      "[63300, 64900]     1600\n",
      "[67800, 69400]     1600\n",
      "[72200, 73750]     1550\n",
      "[76760, 78150]     1390\n",
      "[85360, 86880]     1520\n",
      "[90150, 91450]     1300\n",
      "[94130, 95600]     1470\n",
      "[98300, 99650]     1350\n",
      "[102450, 104000]     1550\n"
     ]
    }
   ],
   "source": [
    "for i in range(len(point_index)):\n",
    "    print(point_index[i], \"   \", point_index[i][1] - point_index[i][0])"
   ]
  },
  {
   "cell_type": "code",
   "execution_count": 35,
   "metadata": {},
   "outputs": [],
   "source": [
    "point_index = [\n",
    "[5750,6875],\n",
    "[9600,11250],\n",
    "[14125,15810],\n",
    "[18425,20200],\n",
    "[22900,24680],\n",
    "\n",
    "[32140,33400],\n",
    "[36480,38000],\n",
    "[40950,42575],\n",
    "[45400,46820],\n",
    "[49840,51550],\n",
    "\n",
    "[58850,60500],\n",
    "[63300,64900],\n",
    "[67800,69400],\n",
    "[72200,73750],\n",
    "[76760,78150],\n",
    "\n",
    "[85360,86880],\n",
    "[90150,91450],\n",
    "[94130,95600],\n",
    "[98300,99650],\n",
    "[102450,104000]]"
   ]
  },
  {
   "cell_type": "code",
   "execution_count": null,
   "metadata": {},
   "outputs": [],
   "source": [
    "p = [\n",
    "[5750,6875],\n",
    "[9600,11250],\n",
    "[14125,15810],\n",
    "[18425,20200],\n",
    "[22900,24680],\n",
    "\n",
    "[32140,33400],\n",
    "[36480,38000],\n",
    "[40950,42575],\n",
    "[45400,46820],\n",
    "[49840,51550],\n",
    "\n",
    "[58850,60500],\n",
    "[63300,64900],\n",
    "[67800,69400],\n",
    "[72200,73750],\n",
    "[76760,78150],\n",
    "\n",
    "[85360,86880],\n",
    "[90150,91450],\n",
    "[94130,95600],\n",
    "[98300,99650],\n",
    "[102450,104000],\n",
    "\n",
    "\n",
    "]"
   ]
  },
  {
   "cell_type": "code",
   "execution_count": 37,
   "metadata": {},
   "outputs": [],
   "source": [
    "dist_folder = r\"C:\\Users\\Nik\\Desktop\\tes\"\n",
    "dist_folder = dist_folder.replace(chr(92), \"/\")\n",
    "dist_folder += \"/\"\n",
    "\n",
    "folder_name = \"с2 points\"\n",
    "d_name = \"2_\"\n",
    "\n",
    "\n",
    "if os.path.exists(os.path.join(dist_folder, folder_name)):\n",
    "\n",
    "    shutil.rmtree(dist_folder + \"/\" + folder_name)\n",
    "\n",
    "\n",
    "os.makedirs(os.path.join(dist_folder, folder_name))\n",
    "\n",
    "\n",
    "for i in range(len(point_index)):\n",
    "\n",
    "    os.makedirs(os.path.join(dist_folder + \"/\" + folder_name, d_name + str(i + 1)))"
   ]
  },
  {
   "cell_type": "code",
   "execution_count": 38,
   "metadata": {},
   "outputs": [
    {
     "name": "stdout",
     "output_type": "stream",
     "text": [
      "C:/Users/Nik/Desktop/tes/\n",
      "2_ 1   1125\n",
      "2_ 2   1650\n",
      "2_ 3   1685\n",
      "2_ 4   1775\n",
      "2_ 5   1780\n",
      "2_ 6   1260\n",
      "2_ 7   1520\n",
      "2_ 8   1625\n",
      "2_ 9   1420\n",
      "2_ 10   1710\n",
      "2_ 11   1650\n",
      "2_ 12   1600\n",
      "2_ 13   1600\n",
      "2_ 14   1550\n",
      "2_ 15   1390\n",
      "2_ 16   1520\n",
      "2_ 17   1300\n",
      "2_ 18   1470\n",
      "2_ 19   1350\n",
      "2_ 20   1550\n"
     ]
    }
   ],
   "source": [
    "main_folder = r\"C:\\Users\\Nik\\Desktop\\tes\\c2\"\n",
    "main_folder = main_folder.replace(chr(92), \"/\")\n",
    "main_folder += \"/\"\n",
    "file_list = np.array(natsorted(os.listdir(main_folder)))\n",
    "print(dist_folder)\n",
    "\n",
    "\n",
    "for i in range(len(point_index)):\n",
    "\n",
    "    dist = dist_folder + \"/\" + folder_name + \"/\" + d_name + str(i + 1)\n",
    "\n",
    "    for j in range(point_index[i][0], point_index[i][1]):\n",
    "\n",
    "        shutil.copy2(main_folder + str(file_list[j]), dist)\n",
    "\n",
    "    print(d_name, i + 1, \" \", point_index[i][1] - point_index[i][0])"
   ]
  }
 ],
 "metadata": {
  "kernelspec": {
   "display_name": "Python 3",
   "language": "python",
   "name": "python3"
  },
  "language_info": {
   "codemirror_mode": {
    "name": "ipython",
    "version": 3
   },
   "file_extension": ".py",
   "mimetype": "text/x-python",
   "name": "python",
   "nbconvert_exporter": "python",
   "pygments_lexer": "ipython3",
   "version": "3.11.0"
  }
 },
 "nbformat": 4,
 "nbformat_minor": 2
}
