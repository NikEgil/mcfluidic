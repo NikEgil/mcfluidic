{
 "cells": [
  {
   "cell_type": "markdown",
   "metadata": {},
   "source": [
    "импорты и константы"
   ]
  },
  {
   "cell_type": "code",
   "execution_count": 1,
   "metadata": {},
   "outputs": [],
   "source": [
    "import os\n",
    "import numpy as np\n",
    "from natsort import natsorted\n",
    "import matplotlib.pyplot as plt\n",
    "import re\n",
    "import shutil\n",
    "import time\n",
    "\n",
    "# 153.8336486816406250 884.2712384333286764    измеряемый диапазон. 0-2136 диапазон данных\n",
    "start = 400  # нм\n",
    "end = 700  # нм\n",
    "step = (884.2712384333286764 - 153.8336486816406250) / 2136\n",
    "\n",
    "# номера точек в массиве по координате х\n",
    "start_point = round((start - 153.8336486816406250) / step)\n",
    "end_point = start_point + int((end - start) / step)\n",
    "_start = start_point + 11\n",
    "_end = start_point + round((end_point - start_point) / 2)"
   ]
  },
  {
   "cell_type": "markdown",
   "metadata": {},
   "source": [
    "функции получения данных"
   ]
  },
  {
   "cell_type": "code",
   "execution_count": 2,
   "metadata": {},
   "outputs": [],
   "source": [
    "def get_max_rmr(path, fl):\n",
    "    _dm = np.zeros(len(fl))\n",
    "\n",
    "    for i in range(len(fl)):\n",
    "        with open(path + fl[i], \"r\", encoding=\"utf8\") as spec:\n",
    "            _dm[i] = re.split(\",\", spec.read())[_start + 425]\n",
    "    return _dm"
   ]
  },
  {
   "cell_type": "markdown",
   "metadata": {},
   "source": [
    "получение максимумов из спектров"
   ]
  },
  {
   "cell_type": "code",
   "execution_count": 17,
   "metadata": {},
   "outputs": [
    {
     "name": "stdout",
     "output_type": "stream",
     "text": [
      "C:/Users/Nik/Desktop/оливка/10/\n",
      "50195  файлов\n",
      "получено  5000\n",
      "получено  10000\n",
      "получено  15000\n",
      "получено  20000\n",
      "получено  25000\n",
      "получено  30000\n",
      "получено  35000\n",
      "получено  40000\n",
      "получено  45000\n",
      "получено  50000\n",
      "получено  50195\n",
      "получено 50196 максимумов спектров\n"
     ]
    }
   ],
   "source": [
    "data_max = np.zeros(1)  # изанчальные графики\n",
    "main_folder = r\"C:\\Users\\Nik\\Desktop\\оливка\\10\"\n",
    "main_folder = main_folder.replace(chr(92), \"/\")\n",
    "main_folder += \"/\"\n",
    "print(main_folder)\n",
    "file_list = np.array(natsorted(os.listdir(main_folder)))\n",
    "print(len(file_list), \" файлов\")\n",
    "for i in range(0, len(file_list), 5000):\n",
    "    _b = i + 5000\n",
    "    if _b > len(file_list):\n",
    "        _b = len(file_list)\n",
    "    data_max = np.append(data_max, get_max_rmr(main_folder, file_list[i:_b]), axis=0)\n",
    "    print(\"получено \", _b)\n",
    "print(\"получено \" + str(len(data_max)) + \" максимумов спектров\")"
   ]
  },
  {
   "cell_type": "markdown",
   "metadata": {},
   "source": [
    "максимумы на таймлайнах"
   ]
  },
  {
   "cell_type": "code",
   "execution_count": 18,
   "metadata": {},
   "outputs": [],
   "source": [
    "_step = 400\n",
    "_sp = 0\n",
    "_ep = _step\n",
    "\n",
    "# создание папки для сохранения картинок\n",
    "dist_folder = r\"C:\\Users\\Nik\\Desktop\\оливка обработка\"\n",
    "dist_folder = dist_folder.replace(chr(92), \"/\")\n",
    "dist_folder += \"/\"\n",
    "folder_name = \"10 timelines\"\n",
    "if not os.path.exists(os.path.join(dist_folder, folder_name)):\n",
    "    os.makedirs(os.path.join(dist_folder, folder_name))\n",
    "\n",
    "# расчет гистограммы\n",
    "num_bins = 10  # количество интервалов\n",
    "range_values = (np.max(data_max) - np.min(data_max)) / num_bins\n",
    "# границы интервалов\n",
    "bin_edges = np.arange(np.min(data_max), np.max(data_max) + range_values, range_values)\n",
    "# середины интервалов\n",
    "bins = bin_edges[:-1] + range_values / 2\n",
    "\n",
    "hist, _ = np.histogram(data_max, bins=bin_edges)\n",
    "\n",
    "zero = bin_edges[np.argmax(hist) + 1]\n",
    "fig, ax = plt.subplots(figsize=(10, 6), dpi=120)\n",
    "fig.suptitle(\"гистограмма\")\n",
    "ax.hist(data_max, bin_edges, alpha=0.6, color=\"blue\", edgecolor=\"k\", linewidth=1)\n",
    "ax.plot(bins, hist, color=\"red\", lw=2)\n",
    "plt.xticks(rotation=90)\n",
    "ax.set_xticks(bin_edges)\n",
    "plt.savefig(dist_folder + \"/\" + folder_name + \"/\" + \"гистограмма.png\")\n",
    "\n",
    "m = np.min(data_max) * 0.8\n",
    "m2 = np.max(data_max) * 0.5\n",
    "\n",
    "for i in range(round(len(data_max) / (3 * _step))):\n",
    "    fig, axs = plt.subplots(3, 1, figsize=(10, 6), dpi=120)\n",
    "    plt.ioff()\n",
    "    _s = _sp\n",
    "    for j in range(3):\n",
    "        if _ep > len(data_max):\n",
    "            _ep = len(data_max)\n",
    "        axs[j].plot(np.arange(_sp, _ep, 1), data_max[_sp:_ep], lw=1, color=\"blue\")\n",
    "        axs[j].scatter(np.arange(_sp, _ep, 1), data_max[_sp:_ep], s=4, color=\"black\")\n",
    "        axs[j].plot((_sp, _ep), (zero, zero), color=\"orange\")\n",
    "        axs[j].set_ylim(0, 0.5)\n",
    "        _sp += _step\n",
    "        _ep += _step\n",
    "\n",
    "    _e = _ep - _step\n",
    "    fig.suptitle(\"спектры \" + str(_s) + \"-\" + str(_e))\n",
    "    plt.savefig(\n",
    "        dist_folder\n",
    "        + \"/\"\n",
    "        + folder_name\n",
    "        + \"/\"\n",
    "        + \"ряд максимумов \"\n",
    "        + str(_s)\n",
    "        + \"-\"\n",
    "        + str(_e)\n",
    "        + \".png\"\n",
    "    )"
   ]
  },
  {
   "cell_type": "code",
   "execution_count": 7,
   "metadata": {},
   "outputs": [
    {
     "name": "stdout",
     "output_type": "stream",
     "text": [
      "7\n",
      "[(10500, 12000), (14500, 16500), (19500, 21500), (24000, 24500), (43000, 44000), (46000, 47500), (49500, 51000)]\n"
     ]
    }
   ],
   "source": [
    "point_index = []\n",
    "_point = False\n",
    "k = []\n",
    "zero = 0.05\n",
    "s = 500\n",
    "for i in range(0, len(data_max), s):\n",
    "    ar = np.mean(data_max[i : i + s])\n",
    "    if ar > zero:\n",
    "        k.append(i)\n",
    "        _point = True\n",
    "    if ar < zero and _point == True:\n",
    "        point_index.append((k[0], i))\n",
    "        k = []\n",
    "        _point = False\n",
    "    if _point == True and i >= len(data_max) - s:\n",
    "        point_index.append((k[0], len(data_max) - 1))\n",
    "print(len(point_index))\n",
    "print(point_index)"
   ]
  },
  {
   "cell_type": "code",
   "execution_count": 22,
   "metadata": {},
   "outputs": [
    {
     "name": "stdout",
     "output_type": "stream",
     "text": [
      "1   [10550, 11550]     1000\n",
      "2   [15250, 16250]     1000\n",
      "3   [19900, 20900]     1000\n",
      "4   [24550, 25550]     1000\n",
      "5   [29200, 30200]     1000\n",
      "6   [32500, 33400]     900\n",
      "7   [35850, 36800]     950\n",
      "8   [39000, 39900]     900\n",
      "9   [42250, 43100]     850\n",
      "10   [45400, 46400]     1000\n",
      "11   [48700, 49600]     900\n"
     ]
    }
   ],
   "source": [
    "for i in range(len(point_index)):\n",
    "    print(i+1, ' ',point_index[i], \"   \", point_index[i][1] - point_index[i][0])"
   ]
  },
  {
   "cell_type": "code",
   "execution_count": 19,
   "metadata": {},
   "outputs": [],
   "source": [
    "point_index = [\n",
    "[10550,11550],\n",
    "[15250,16250],\n",
    "[19900,20900],\n",
    "[24550,25550],\n",
    "[29200,30200],\n",
    "[32500,33400],\n",
    "[35850,36800],\n",
    "[39000,39900],\n",
    "[42250,43100],\n",
    "[45400,46400],\n",
    "[48700,49600],\n",
    "]"
   ]
  },
  {
   "cell_type": "code",
   "execution_count": 23,
   "metadata": {},
   "outputs": [],
   "source": [
    "dist_folder = r\"C:\\Users\\Nik\\Desktop\\оливка обработка\"\n",
    "dist_folder = dist_folder.replace(chr(92), \"/\")\n",
    "dist_folder += \"/\"\n",
    "\n",
    "folder_name = \"10 points\"\n",
    "d_name = \"10_\"\n",
    "\n",
    "\n",
    "if os.path.exists(os.path.join(dist_folder, folder_name)):\n",
    "\n",
    "    shutil.rmtree(dist_folder + \"/\" + folder_name)\n",
    "\n",
    "\n",
    "os.makedirs(os.path.join(dist_folder, folder_name))\n",
    "\n",
    "\n",
    "for i in range(len(point_index)):\n",
    "\n",
    "    os.makedirs(os.path.join(dist_folder + \"/\" + folder_name, d_name + str(i + 1)))"
   ]
  },
  {
   "cell_type": "code",
   "execution_count": 24,
   "metadata": {},
   "outputs": [
    {
     "name": "stdout",
     "output_type": "stream",
     "text": [
      "C:/Users/Nik/Desktop/оливка обработка/\n",
      "10_ 1   1000\n",
      "10_ 2   1000\n",
      "10_ 3   1000\n",
      "10_ 4   1000\n",
      "10_ 5   1000\n",
      "10_ 6   900\n",
      "10_ 7   950\n",
      "10_ 8   900\n",
      "10_ 9   850\n",
      "10_ 10   1000\n",
      "10_ 11   900\n"
     ]
    }
   ],
   "source": [
    "main_folder = r\"C:\\Users\\Nik\\Desktop\\оливка\\10\"\n",
    "main_folder = main_folder.replace(chr(92), \"/\")\n",
    "main_folder += \"/\"\n",
    "file_list = np.array(natsorted(os.listdir(main_folder)))\n",
    "print(dist_folder)\n",
    "\n",
    "\n",
    "for i in range(len(point_index)):\n",
    "\n",
    "    dist = dist_folder + \"/\" + folder_name + \"/\" + d_name + str(i + 1)\n",
    "\n",
    "    for j in range(point_index[i][0], point_index[i][1]):\n",
    "\n",
    "        shutil.copy2(main_folder + str(file_list[j]), dist)\n",
    "\n",
    "    print(d_name, i + 1, \" \", point_index[i][1] - point_index[i][0])"
   ]
  }
 ],
 "metadata": {
  "kernelspec": {
   "display_name": "Python 3",
   "language": "python",
   "name": "python3"
  },
  "language_info": {
   "codemirror_mode": {
    "name": "ipython",
    "version": 3
   },
   "file_extension": ".py",
   "mimetype": "text/x-python",
   "name": "python",
   "nbconvert_exporter": "python",
   "pygments_lexer": "ipython3",
   "version": "3.11.0"
  }
 },
 "nbformat": 4,
 "nbformat_minor": 2
}
