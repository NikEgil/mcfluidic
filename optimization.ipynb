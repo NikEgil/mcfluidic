{
 "cells": [
  {
   "cell_type": "code",
   "execution_count": 1,
   "metadata": {},
   "outputs": [],
   "source": [
    "import numpy as np\n",
    "from bayes_opt import BayesianOptimization\n",
    "import matplotlib.pyplot as plt\n",
    "from scipy.optimize import NonlinearConstraint\n",
    "import pandas as pd"
   ]
  },
  {
   "cell_type": "code",
   "execution_count": 2,
   "metadata": {},
   "outputs": [],
   "source": [
    "m = pd.read_csv(\"I(max).csv\")\n",
    "m = m.round({\"v АК\": 2, \"v ЦН\": 2})\n",
    "# m=m*100\n",
    "# m=m.astype(int)\n",
    "\n",
    "\n",
    "def target_function(x, y):\n",
    "    x = round(x, 2)\n",
    "    y = round(y, 2)\n",
    "    if x < 0.8:\n",
    "        x = 0.8\n",
    "    if x >2.8:\n",
    "        x = 2.8\n",
    "    if y < 0.8:\n",
    "        y = 0.8\n",
    "    if y >2.8:\n",
    "        y =2.8\n",
    "    while m.loc[(m[\"v АК\"] == x) & (m[\"v ЦН\"] ==y)].empty== True:\n",
    "        x += 0.01\n",
    "        y += 0.01\n",
    "        x = round(x, 2)\n",
    "        y = round(y, 2)\n",
    "    return m.loc[(m[\"v АК\"] == x) & (m[\"v ЦН\"] == y)].iloc[0, 2]"
   ]
  },
  {
   "cell_type": "code",
   "execution_count": 3,
   "metadata": {},
   "outputs": [],
   "source": [
    "# Bounded region of parameter space\n",
    "pbounds = {\"x\": (0.8, 2.8), \"y\": (0.8, 2.8)}\n",
    "\n",
    "optimizer = BayesianOptimization(\n",
    "    f=target_function,\n",
    "    pbounds=pbounds,\n",
    "    verbose=0,  # verbose = 1 prints only when a maximum is observed, verbose = 0 is silent\n",
    "    allow_duplicate_points=False,\n",
    "    random_state=1,\n",
    ")"
   ]
  },
  {
   "cell_type": "code",
   "execution_count": 3,
   "metadata": {},
   "outputs": [
    {
     "data": {
      "application/vnd.jupyter.widget-view+json": {
       "model_id": "85d5cf06133a4881bc417abcdeb8a86a",
       "version_major": 2,
       "version_minor": 0
      },
      "image/png": "[encoded data removed]",
      "text/html": [
       "\n",
       "            <div style=\"display: inline-block;\">\n",
       "                <div class=\"jupyter-widgets widget-label\" style=\"text-align: center;\">\n",
       "                    Figure\n",
       "                </div>\n",
       "                <img src='data:image/png;base64,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' width=640.0/>\n",
       "            </div>\n",
       "        "
      ],
      "text/plain": [
       "Canvas(toolbar=Toolbar(toolitems=[('Home', 'Reset original view', 'home', 'home'), ('Back', 'Back to previous …"
      ]
     },
     "metadata": {},
     "output_type": "display_data"
    }
   ],
   "source": [
    "%matplotlib widget\n",
    "fig = plt.figure(figsize=(8,6),dpi=80)\n",
    "#projection='3d'\n",
    "ax = plt.axes()\n",
    "\n",
    "plt.rcParams[\"figure.autolayout\"] = False\n",
    "\n",
    "def update(frame,text_on,i):\n",
    "    # updating the data by adding one more point\n",
    "    from bayes_opt import UtilityFunction\n",
    "    utility = UtilityFunction(kind=\"ei\", kappa=2.56, xi=0)\n",
    "    next_point = optimizer.suggest(utility)\n",
    "    target = target_function(next_point.get(\"x\"),next_point.get('y'))\n",
    "\n",
    "\n",
    "    optimizer.register(params=next_point, target=target)\n",
    "   # optimizer.maximize(init_points=0, n_iter=1)\n",
    "    l=len(optimizer.res)-1\n",
    "    #optimizer.probe([2,2],lazy=False)\n",
    "    x1=optimizer.res[l].get(\"params\").get('x')\n",
    "    y1=optimizer.res[l].get(\"params\").get('y')\n",
    "    z1=optimizer.res[l].get(\"target\")\n",
    "    t=str(round(z1,3))\n",
    "   \n",
    "    \n",
    "    \n",
    "    ax.scatter(x1,y1,  alpha = 1,lw=2)  # creating new scatter chart with updated data\n",
    "    #ax.scatter(optimizer.max.get('params').get('x'),optimizer.max.get('params').get('y'), color='red', alpha = 1,lw=7)\n",
    "    ax.text(x1+0.01,y1+0.01,l, fontsize=12)\n",
    "    #дорисовать линию меж точками\n",
    "    if l>0:\n",
    "        x0=optimizer.res[l-1].get(\"params\").get('x')\n",
    "        y0=optimizer.res[l-1].get(\"params\").get('y')\n",
    "        z0=optimizer.res[l-1].get(\"target\")\n",
    "        ax.plot([x0,x1],[y0,y1],lw=0.5,c=\"black\")\n",
    "    #ax.text(x1[len(x1)-1], y1[len(y1)-1], str(len(optimizer.res)), style='italic')\n",
    "    if text_on==True:\n",
    "        ax.text(x1,y1,t)\n",
    "   # fig.canvas.draw()\n",
    "    plt.savefig('frame/'+str(i)+'.jpg')"
   ]
  },
  {
   "cell_type": "code",
   "execution_count": 14,
   "metadata": {},
   "outputs": [
    {
     "name": "stdout",
     "output_type": "stream",
     "text": [
      "200.0\n"
     ]
    },
    {
     "data": {
      "text/plain": [
       "Text(23.854166666666664, 0.5, 'v ЦН')"
      ]
     },
     "execution_count": 14,
     "metadata": {},
     "output_type": "execute_result"
    }
   ],
   "source": [
    "z=np.ndarray([200,200])\n",
    "a=m['b'].to_numpy() \n",
    "for i in range(round(len(m)/200)):\n",
    "    for k in range(200):\n",
    "        z[k][i]=a[200*i+k]\n",
    "X=np.linspace(m['v АК'].min(),m['v АК'].max(),200)\n",
    "Y=np.linspace(m['v ЦН'].min(),m['v ЦН'].max(),200)\n",
    "\n",
    "# Задаем сетку точек (x, y)\n",
    "X, Y = np.meshgrid(X,Y)\n",
    "\n",
    "# Отображаем поверхность\n",
    "ax.pcolor(Y,X,z, cmap='turbo',alpha=1)\n",
    "ax.set_xlabel('v AK')\n",
    "\n",
    "# Можно также установить заголовки по осям Y и/или показать график\n",
    "ax.set_ylabel('v ЦН')"
   ]
  },
  {
   "cell_type": "code",
   "execution_count": 8,
   "metadata": {},
   "outputs": [],
   "source": [
    "aaa=0"
   ]
  },
  {
   "cell_type": "code",
   "execution_count": 27,
   "metadata": {},
   "outputs": [],
   "source": [
    "for i in range(150):\n",
    "    aaa+=1\n",
    "    update(fig, False,aaa)"
   ]
  },
  {
   "cell_type": "code",
   "execution_count": null,
   "metadata": {},
   "outputs": [],
   "source": [
    "print(optimizer.res[len(optimizer.res)-1])"
   ]
  },
  {
   "cell_type": "code",
   "execution_count": 6,
   "metadata": {},
   "outputs": [
    {
     "name": "stdout",
     "output_type": "stream",
     "text": [
      "Next point to probe is: {'x': 1.634044009405148, 'y': 2.240648986884316}\n"
     ]
    }
   ],
   "source": [
    "from bayes_opt import UtilityFunction\n",
    "\n",
    "utility = UtilityFunction(kind=\"ucb\", kappa=2.5, xi=0.0)\n",
    "next_point_to_probe = optimizer.suggest(utility)\n",
    "print(\"Next point to probe is:\", next_point_to_probe)"
   ]
  },
  {
   "cell_type": "code",
   "execution_count": 7,
   "metadata": {},
   "outputs": [
    {
     "name": "stdout",
     "output_type": "stream",
     "text": [
      "{'x': 0.8002287496346898, 'y': 1.4046651452636794}\n",
      "0.1796568274436706\n",
      "{'x': 2.8, 'y': 2.8}\n",
      "0.14504166391574\n",
      "{'x': 0.815384762857194, 'y': 1.413764662411718}\n",
      "0.1796568274436706\n",
      "{'x': 2.018130622837848, 'y': 0.8}\n",
      "0.1403247589719872\n",
      "{'x': 0.8, 'y': 2.519863636645687}\n",
      "0.2160726449283818\n",
      "{'x': 1.2026514719386672, 'y': 2.8}\n",
      "0.2126168519481904\n",
      "{'x': 0.8, 'y': 2.8}\n",
      "0.215137801282488\n",
      "{'x': 1.0732280782309565, 'y': 2.4924025421505323}\n",
      "0.2145562052736861\n",
      "{'x': 0.93973060992267, 'y': 2.6574819173196467}\n",
      "0.2154702962925588\n",
      "{'x': 0.8, 'y': 2.302142178930287}\n",
      "0.2226067089196891\n",
      "{'target': 0.2226067089196891, 'params': {'x': 0.8, 'y': 2.302142178930287}}\n"
     ]
    }
   ],
   "source": [
    "for _ in range(10):\n",
    "    next_point = optimizer.suggest(utility)\n",
    "    print(next_point)\n",
    "\n",
    "    target = target_function(next_point.get(\"x\"),next_point.get('y'))\n",
    "    print(target)\n",
    "\n",
    "    optimizer.register(params=next_point, target=target)\n",
    "    \n",
    "  #  print(target, next_point)\n",
    "print(optimizer.max)"
   ]
  }
 ],
 "metadata": {
  "kernelspec": {
   "display_name": "Python 3",
   "language": "python",
   "name": "python3"
  },
  "language_info": {
   "codemirror_mode": {
    "name": "ipython",
    "version": 3
   },
   "file_extension": ".py",
   "mimetype": "text/x-python",
   "name": "python",
   "nbconvert_exporter": "python",
   "pygments_lexer": "ipython3",
   "version": "3.11.0"
  }
 },
 "nbformat": 4,
 "nbformat_minor": 2
}
