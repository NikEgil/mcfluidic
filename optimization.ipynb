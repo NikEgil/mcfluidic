{
 "cells": [
  {
   "cell_type": "code",
   "execution_count": 1,
   "metadata": {},
   "outputs": [],
   "source": [
    "import numpy as np\n",
    "from bayes_opt import BayesianOptimization\n",
    "import matplotlib.pyplot as plt\n",
    "from scipy.optimize import NonlinearConstraint\n",
    "import pandas as pd"
   ]
  },
  {
   "cell_type": "code",
   "execution_count": 2,
   "metadata": {},
   "outputs": [],
   "source": [
    "m = pd.read_csv(\"I(max).csv\")\n",
    "m = m.round({\"v АК\": 2, \"v ЦН\": 2})\n",
    "# m=m*100\n",
    "# m=m.astype(int)\n",
    "\n",
    "\n",
    "def target_function(x, y):\n",
    "    x = round(x, 2)\n",
    "    y = round(y, 2)\n",
    "    if x < 0.8:\n",
    "        x = 0.8\n",
    "    if x >2.8:\n",
    "        x = 2.8\n",
    "    if y < 0.8:\n",
    "        y = 0.8\n",
    "    if y >2.8:\n",
    "        y =2.8\n",
    "    while m.loc[(m[\"v АК\"] == x) & (m[\"v ЦН\"] ==y)].empty== True:\n",
    "        x += 0.01\n",
    "        y += 0.01\n",
    "        x = round(x, 2)\n",
    "        y = round(y, 2)\n",
    "    return m.loc[(m[\"v АК\"] == x) & (m[\"v ЦН\"] == y)].iloc[0, 2]"
   ]
  },
  {
   "cell_type": "code",
   "execution_count": 3,
   "metadata": {},
   "outputs": [],
   "source": [
    "# Bounded region of parameter space\n",
    "pbounds = {\"x\": (0.8, 2.8), \"y\": (0.8, 2.8)}\n",
    "\n",
    "optimizer = BayesianOptimization(\n",
    "    f=target_function,\n",
    "    pbounds=pbounds,\n",
    "    verbose=0,  # verbose = 1 prints only when a maximum is observed, verbose = 0 is silent\n",
    "    allow_duplicate_points=False,\n",
    "    random_state=1,\n",
    ")"
   ]
  },
  {
   "cell_type": "code",
   "execution_count": 7,
   "metadata": {},
   "outputs": [
    {
     "data": {
      "application/vnd.jupyter.widget-view+json": {
       "model_id": "22bc0a7b169a4ef19da540d92851c609",
       "version_major": 2,
       "version_minor": 0
      },
      "image/png": "[encoded data removed]",
      "text/html": [
       "\n",
       "            <div style=\"display: inline-block;\">\n",
       "                <div class=\"jupyter-widgets widget-label\" style=\"text-align: center;\">\n",
       "                    Figure\n",
       "                </div>\n",
       "                <img src='data:image/png;base64,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' width=600.0/>\n",
       "            </div>\n",
       "        "
      ],
      "text/plain": [
       "Canvas(toolbar=Toolbar(toolitems=[('Home', 'Reset original view', 'home', 'home'), ('Back', 'Back to previous …"
      ]
     },
     "metadata": {},
     "output_type": "display_data"
    }
   ],
   "source": [
    "%matplotlib widget\n",
    "fig = plt.figure(figsize=(8,6),dpi=300)\n",
    "#projection='3d'\n",
    "ax = plt.axes()\n",
    "\n",
    "plt.rcParams[\"figure.autolayout\"] = False\n",
    "\n",
    "def update(frame,text_on,i):\n",
    "    # updating the data by adding one more point\n",
    "    from bayes_opt import UtilityFunction\n",
    "    utility = UtilityFunction(kind=\"ei\", kappa=2.56, xi=0)\n",
    "    next_point = optimizer.suggest(utility)\n",
    "    target = target_function(next_point.get(\"x\"),next_point.get('y'))\n",
    "\n",
    "\n",
    "    optimizer.register(params=next_point, target=target)\n",
    "   # optimizer.maximize(init_points=0, n_iter=1)\n",
    "    l=len(optimizer.res)-1\n",
    "    #optimizer.probe([2,2],lazy=False)\n",
    "    x1=optimizer.res[l].get(\"params\").get('x')\n",
    "    y1=optimizer.res[l].get(\"params\").get('y')\n",
    "    z1=optimizer.res[l].get(\"target\")\n",
    "    t=str(round(z1,3))\n",
    "   \n",
    "    \n",
    "    \n",
    "    ax.scatter(x1,y1,  alpha = 1,lw=2)  # creating new scatter chart with updated data\n",
    "    #ax.scatter(optimizer.max.get('params').get('x'),optimizer.max.get('params').get('y'), color='red', alpha = 1,lw=7)\n",
    "    ax.text(x1+0.01,y1+0.01,l, fontsize=12)\n",
    "    #дорисовать линию меж точками\n",
    "    if l>0:\n",
    "        x0=optimizer.res[l-1].get(\"params\").get('x')\n",
    "        y0=optimizer.res[l-1].get(\"params\").get('y')\n",
    "        z0=optimizer.res[l-1].get(\"target\")\n",
    "        ax.plot([x0,x1],[y0,y1],lw=0.5,c=\"black\")\n",
    "    #ax.text(x1[len(x1)-1], y1[len(y1)-1], str(len(optimizer.res)), style='italic')\n",
    "    if text_on==True:\n",
    "        ax.text(x1,y1,t)\n",
    "   # fig.canvas.draw()\n",
    "    plt.savefig('frame/'+str(i)+'.jpg')"
   ]
  },
  {
   "cell_type": "code",
   "execution_count": 14,
   "metadata": {},
   "outputs": [
    {
     "name": "stdout",
     "output_type": "stream",
     "text": [
      "200.0\n"
     ]
    },
    {
     "data": {
      "text/plain": [
       "Text(23.854166666666664, 0.5, 'v ЦН')"
      ]
     },
     "execution_count": 14,
     "metadata": {},
     "output_type": "execute_result"
    }
   ],
   "source": [
    "z=np.ndarray([200,200])\n",
    "a=m['b'].to_numpy() \n",
    "for i in range(round(len(m)/200)):\n",
    "    for k in range(200):\n",
    "        z[k][i]=a[200*i+k]\n",
    "X=np.linspace(m['v АК'].min(),m['v АК'].max(),200)\n",
    "Y=np.linspace(m['v ЦН'].min(),m['v ЦН'].max(),200)\n",
    "\n",
    "# Задаем сетку точек (x, y)\n",
    "X, Y = np.meshgrid(X,Y)\n",
    "\n",
    "# Отображаем поверхность\n",
    "ax.pcolor(Y,X,z, cmap='turbo',alpha=1)\n",
    "ax.set_xlabel('v AK')\n",
    "\n",
    "# Можно также установить заголовки по осям Y и/или показать график\n",
    "ax.set_ylabel('v ЦН')"
   ]
  },
  {
   "cell_type": "code",
   "execution_count": 8,
   "metadata": {},
   "outputs": [],
   "source": [
    "aaa=0"
   ]
  },
  {
   "cell_type": "code",
   "execution_count": 27,
   "metadata": {},
   "outputs": [],
   "source": [
    "for i in range(150):\n",
    "    aaa+=1\n",
    "    update(fig, False,aaa)"
   ]
  },
  {
   "cell_type": "code",
   "execution_count": null,
   "metadata": {},
   "outputs": [],
   "source": [
    "print(optimizer.res[len(optimizer.res)-1])"
   ]
  },
  {
   "cell_type": "code",
   "execution_count": 6,
   "metadata": {},
   "outputs": [
    {
     "name": "stdout",
     "output_type": "stream",
     "text": [
      "Next point to probe is: {'x': 1.634044009405148, 'y': 2.240648986884316}\n"
     ]
    }
   ],
   "source": [
    "from bayes_opt import UtilityFunction\n",
    "\n",
    "utility = UtilityFunction(kind=\"ucb\", kappa=2.5, xi=0.0)\n",
    "next_point_to_probe = optimizer.suggest(utility)\n",
    "print(\"Next point to probe is:\", next_point_to_probe)"
   ]
  },
  {
   "cell_type": "code",
   "execution_count": 7,
   "metadata": {},
   "outputs": [
    {
     "name": "stdout",
     "output_type": "stream",
     "text": [
      "{'x': 0.8002287496346898, 'y': 1.4046651452636794}\n",
      "0.1796568274436706\n",
      "{'x': 2.8, 'y': 2.8}\n",
      "0.14504166391574\n",
      "{'x': 0.815384762857194, 'y': 1.413764662411718}\n",
      "0.1796568274436706\n",
      "{'x': 2.018130622837848, 'y': 0.8}\n",
      "0.1403247589719872\n",
      "{'x': 0.8, 'y': 2.519863636645687}\n",
      "0.2160726449283818\n",
      "{'x': 1.2026514719386672, 'y': 2.8}\n",
      "0.2126168519481904\n",
      "{'x': 0.8, 'y': 2.8}\n",
      "0.215137801282488\n",
      "{'x': 1.0732280782309565, 'y': 2.4924025421505323}\n",
      "0.2145562052736861\n",
      "{'x': 0.93973060992267, 'y': 2.6574819173196467}\n",
      "0.2154702962925588\n",
      "{'x': 0.8, 'y': 2.302142178930287}\n",
      "0.2226067089196891\n",
      "{'target': 0.2226067089196891, 'params': {'x': 0.8, 'y': 2.302142178930287}}\n"
     ]
    }
   ],
   "source": [
    "for _ in range(10):\n",
    "    next_point = optimizer.suggest(utility)\n",
    "    print(next_point)\n",
    "\n",
    "    target = target_function(next_point.get(\"x\"),next_point.get('y'))\n",
    "    print(target)\n",
    "\n",
    "    optimizer.register(params=next_point, target=target)\n",
    "    \n",
    "  #  print(target, next_point)\n",
    "print(optimizer.max)"
   ]
  }
 ],
 "metadata": {
  "kernelspec": {
   "display_name": "Python 3",
   "language": "python",
   "name": "python3"
  },
  "language_info": {
   "codemirror_mode": {
    "name": "ipython",
    "version": 3
   },
   "file_extension": ".py",
   "mimetype": "text/x-python",
   "name": "python",
   "nbconvert_exporter": "python",
   "pygments_lexer": "ipython3",
   "version": "3.11.0"
  }
 },
 "nbformat": 4,
 "nbformat_minor": 2
}
