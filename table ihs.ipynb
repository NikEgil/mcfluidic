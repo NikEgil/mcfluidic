{
 "cells": [
  {
   "cell_type": "code",
   "execution_count": 1,
   "metadata": {},
   "outputs": [],
   "source": [
    "import os\n",
    "import numpy as np\n",
    "from numpy.random import default_rng\n",
    "import sys\n",
    "sys.path.append(r\"C:\\Users\\Nik\\Desktop\\prog\\pfy\")\n",
    "from pyfitit.ihs import ihs\n",
    "\n",
    "import random\n",
    "import pandas as pd\n",
    "import matplotlib.pyplot as plt"
   ]
  },
  {
   "cell_type": "code",
   "execution_count": 2,
   "metadata": {},
   "outputs": [],
   "source": [
    "# скорость 1\n",
    "v1_s = 0.5\n",
    "v1_e = 2\n",
    "v1_d = 0.1\n",
    "# скорость 2\n",
    "v2 = 1\n",
    "# скорость 3\n",
    "v3_s = 0.5\n",
    "v3_e = 2\n",
    "v3_d = 0.1\n",
    "# cost скорость потока реагентов\n",
    "vs = 3\n",
    "# const скорость масла\n",
    "v4m = 3"
   ]
  },
  {
   "cell_type": "code",
   "execution_count": 3,
   "metadata": {},
   "outputs": [],
   "source": [
    "time_point = 30\n",
    "time_proliv = 30\n",
    "zero_str = (0, 0, 0, 0, None, None, 1)\n",
    "proliv = (0, 0, 0, vs + v4m, None, None, time_proliv)\n",
    "start_str = (0, 0, 0, vs + v4m, None, None, 30)\n",
    "end_str = (0, 0, 0, vs + v4m, None, None, 400)\n",
    "sosiska=(2, 2, 2, 0, None, None, time_point)"
   ]
  },
  {
   "cell_type": "markdown",
   "metadata": {},
   "source": [
    "для фикса"
   ]
  },
  {
   "cell_type": "code",
   "execution_count": 7,
   "metadata": {},
   "outputs": [],
   "source": [
    "table = []\n",
    "for v1 in np.arange(v1_s, v1_e + 0.1, v1_d):\n",
    "    for v3 in np.arange(v3_s, v3_e + 0.1, v3_d):\n",
    "        if v1 + v2 + v3 == vs:\n",
    "            table.append(\n",
    "                (v1, v2, v3, v4m, None, None, time_point, 1, v1 + v2 + v3 + v4m)\n",
    "            )\n",
    "        else:\n",
    "            continue"
   ]
  },
  {
   "cell_type": "markdown",
   "metadata": {},
   "source": [
    "для рандома ihs"
   ]
  },
  {
   "cell_type": "code",
   "execution_count": 4,
   "metadata": {},
   "outputs": [
    {
     "ename": "NameError",
     "evalue": "name 'ihs' is not defined",
     "output_type": "error",
     "traceback": [
      "\u001b[1;31m---------------------------------------------------------------------------\u001b[0m",
      "\u001b[1;31mNameError\u001b[0m                                 Traceback (most recent call last)",
      "Cell \u001b[1;32mIn[4], line 5\u001b[0m\n\u001b[0;32m      3\u001b[0m au \u001b[38;5;241m=\u001b[39m v2\n\u001b[0;32m      4\u001b[0m bounds \u001b[38;5;241m=\u001b[39m [(v1_s, v1_e), (v3_s, v3_e)]\n\u001b[1;32m----> 5\u001b[0m res \u001b[38;5;241m=\u001b[39m \u001b[43mihs\u001b[49m(\u001b[38;5;241m2\u001b[39m, n, seed\u001b[38;5;241m=\u001b[39mrandom\u001b[38;5;241m.\u001b[39mseed())\n\u001b[0;32m      6\u001b[0m samples \u001b[38;5;241m=\u001b[39m []\n\u001b[0;32m      7\u001b[0m \u001b[38;5;66;03m# x4 = (0.3 - 0.6) flow\u001b[39;00m\n\u001b[0;32m      8\u001b[0m \u001b[38;5;66;03m# x1 = (0 - 0.9)(flow - x3 - x4)\u001b[39;00m\n\u001b[0;32m      9\u001b[0m \u001b[38;5;66;03m# x2 = flow - x3 - x4 - x1\u001b[39;00m\n\u001b[0;32m     10\u001b[0m \u001b[38;5;66;03m# x3 = (0.1 - 0.9)(flow - x4)\u001b[39;00m\n",
      "\u001b[1;31mNameError\u001b[0m: name 'ihs' is not defined"
     ]
    }
   ],
   "source": [
    "n = 80\n",
    "total_flow = vs + v4m\n",
    "au = v2\n",
    "bounds = [(v1_s, v1_e), (v3_s, v3_e)]\n",
    "res = ihs(2, n, seed=random.seed())\n",
    "samples = []\n",
    "# x4 = (0.3 - 0.6) flow\n",
    "# x1 = (0 - 0.9)(flow - x3 - x4)\n",
    "# x2 = flow - x3 - x4 - x1\n",
    "# x3 = (0.1 - 0.9)(flow - x4)\n",
    "for row in res:\n",
    "    r = []\n",
    "    for i, interval in zip(range(len(row)), bounds):\n",
    "        r.append(interval[0] + (row[i] * 1.0 / n) * (interval[1] - interval[0]))\n",
    "    samples.append(r)\n",
    "real_values = []\n",
    "\n",
    "for s in samples:\n",
    "    x1 = round(s[0],1)\n",
    "    x2 = au\n",
    "    x3 = round(s[1],1)\n",
    "    x4 = total_flow - x1 - x2 - x3\n",
    "    real_values.append([x1, x2, x3, x4])\n",
    "df = pd.DataFrame(real_values)\n",
    "#df = df.round(1)\n",
    "plt.scatter(df[0].values, df[2].values)\n",
    "table = df.values.tolist()"
   ]
  },
  {
   "cell_type": "code",
   "execution_count": 80,
   "metadata": {},
   "outputs": [
    {
     "name": "stdout",
     "output_type": "stream",
     "text": [
      "zapravka    5037.0       20\n",
      "zapravka    5043.0       20\n",
      "zapravka    5178.0       20\n",
      "zapravka    5106.0       20\n",
      "4\n"
     ]
    }
   ],
   "source": [
    "schedule = []\n",
    "schedule.append(zero_str)\n",
    "schedule.append(sosiska)\n",
    "schedule.append(zero_str)\n",
    "schedule.append(proliv)\n",
    "schedule.append(zero_str)\n",
    "\n",
    "vol = 0\n",
    "a = 0\n",
    "b=0\n",
    "for i in range(len(table)):\n",
    "    schedule.append([table[i][0],table[i][1],table[i][2],table[i][3],None,None,time_point])\n",
    "    schedule.append(zero_str)\n",
    "    schedule.append(proliv)\n",
    "    schedule.append(zero_str)\n",
    "\n",
    "    vol += table[i][3] * time_point + proliv[3] * proliv[6]\n",
    "    a += 1\n",
    "    if a%5==0:\n",
    "        schedule.append(sosiska)\n",
    "        schedule.append(zero_str)\n",
    "        schedule.append(proliv)\n",
    "        schedule.append(zero_str)\n",
    "    if vol > 5000:\n",
    "        print(\"zapravka   \" , vol,\"     \",a)\n",
    "        vol=0\n",
    "        a=0\n",
    "\n",
    "        schedule.append(end_str)\n",
    "        data = pd.DataFrame(schedule)\n",
    "        data = data.assign(q=np.ones(len(schedule)))\n",
    "        data = data.assign(time=np.arange(2, len(schedule) + 2))\n",
    "        data.to_excel(\"расписание\"+str(b)+\".xlsx\", index=False, header=False)\n",
    "        b+=1\n",
    "\n",
    "        schedule = []\n",
    "        schedule.append(zero_str)\n",
    "        schedule.append(sosiska)\n",
    "        schedule.append(zero_str)\n",
    "        schedule.append(proliv)\n",
    "        schedule.append(zero_str)\n",
    "\n",
    "print(b)"
   ]
  }
 ],
 "metadata": {
  "kernelspec": {
   "display_name": "Python 3",
   "language": "python",
   "name": "python3"
  },
  "language_info": {
   "codemirror_mode": {
    "name": "ipython",
    "version": 3
   },
   "file_extension": ".py",
   "mimetype": "text/x-python",
   "name": "python",
   "nbconvert_exporter": "python",
   "pygments_lexer": "ipython3",
   "version": "3.11.0"
  }
 },
 "nbformat": 4,
 "nbformat_minor": 2
}
